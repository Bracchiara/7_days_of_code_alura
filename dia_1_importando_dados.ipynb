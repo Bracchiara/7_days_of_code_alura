{
 "cells": [
  {
   "cell_type": "code",
   "execution_count": 1,
   "id": "887aced4",
   "metadata": {},
   "outputs": [],
   "source": [
    "import pandas as pd\n",
    "import os"
   ]
  },
  {
   "cell_type": "code",
   "execution_count": 3,
   "id": "467a2ce9",
   "metadata": {},
   "outputs": [
    {
     "data": {
      "text/plain": [
       "dict_keys(['emprestimo_20101_df', 'emprestimo_20102_df', 'emprestimo_20111_df', 'emprestimo_20112_df', 'emprestimo_20121_df', 'emprestimo_20122_df', 'emprestimo_20131_df', 'emprestimo_20132_df', 'emprestimo_20141_df', 'emprestimo_20142_df', 'emprestimo_20151_df', 'emprestimo_20152_df', 'emprestimo_20161_df', 'emprestimo_20162_df', 'emprestimo_20171_df', 'emprestimo_20172_df', 'emprestimo_20181_df', 'emprestimo_20182_df', 'emprestimo_20191_df', 'emprestimo_20192_df', 'emprestimo_20201_df'])"
      ]
     },
     "execution_count": 3,
     "metadata": {},
     "output_type": "execute_result"
    }
   ],
   "source": [
    "# Pasta onde estão as tabelas\n",
    "pasta = 'dados_emprestimos'\n",
    "\n",
    "# Lista de arquivos com base no padrão dos nomes\n",
    "nome_arquivo = [f\"emprestimos-{ano}{semestre}.csv\" \n",
    "                for ano in range(2010, 2021) \n",
    "                for semestre in range(1, 3)]\n",
    "\n",
    "# Criar a nomeação dos dataframes\n",
    "emprestimo_dataframes = {f\"emprestimo_{nome.split('-')[1].replace('.csv', '_df')}\": pd.read_csv(f\"{pasta}/{nome}\")\n",
    "                   for nome in nome_arquivo if os.path.exists(f\"{pasta}/{nome}\")}\n",
    "\n",
    "# Mostrar as chaves dos dataframes\n",
    "emprestimo_dataframes.keys()"
   ]
  },
  {
   "cell_type": "code",
   "execution_count": 4,
   "id": "4a174556",
   "metadata": {},
   "outputs": [
    {
     "data": {
      "application/vnd.microsoft.datawrangler.viewer.v0+json": {
       "columns": [
        {
         "name": "index",
         "rawType": "int64",
         "type": "integer"
        },
        {
         "name": "id_emprestimo",
         "rawType": "int64",
         "type": "integer"
        },
        {
         "name": "codigo_barras",
         "rawType": "object",
         "type": "string"
        },
        {
         "name": "data_renovacao",
         "rawType": "object",
         "type": "unknown"
        },
        {
         "name": "data_emprestimo",
         "rawType": "object",
         "type": "string"
        },
        {
         "name": "data_devolucao",
         "rawType": "object",
         "type": "unknown"
        },
        {
         "name": "matricula_ou_siape",
         "rawType": "float64",
         "type": "float"
        },
        {
         "name": "tipo_vinculo_usuario",
         "rawType": "object",
         "type": "string"
        }
       ],
       "conversionMethod": "pd.DataFrame",
       "ref": "a70a15bb-18e5-4d7f-8aad-f86768eb29bf",
       "rows": [
        [
         "0",
         "709684",
         "L095049",
         null,
         "2010/01/04 07:44:10.721000000",
         "2010/01/05 16:26:12.662000000",
         "2008023265.0",
         "ALUNO DE GRADUAÇÃO"
        ],
        [
         "1",
         "709685",
         "L167050",
         null,
         "2010/01/04 07:44:10.750000000",
         "2010/01/12 07:34:13.934000000",
         "2008023265.0",
         "ALUNO DE GRADUAÇÃO"
        ],
        [
         "2",
         "709686",
         "2006017618",
         "2010/01/26 08:07:01.738000000",
         "2010/01/04 08:08:44.081000000",
         "2010/02/25 07:36:25.800000000",
         "2008112114.0",
         "ALUNO DE PÓS-GRADUAÇÃO"
        ],
        [
         "3",
         "709687",
         "L184117",
         "2010/01/18 11:07:46.470000000",
         "2010/01/04 08:24:21.284000000",
         "2010/02/03 08:58:45.692000000",
         "200721119.0",
         "ALUNO DE GRADUAÇÃO"
        ],
        [
         "4",
         "709684",
         "L095049",
         null,
         "2010/01/04 07:44:10.721000000",
         "2010/01/05 16:26:12.662000000",
         "2008023265.0",
         "ALUNO DE GRADUAÇÃO"
        ],
        [
         "5",
         "709685",
         "L167050",
         null,
         "2010/01/04 07:44:10.750000000",
         "2010/01/12 07:34:13.934000000",
         "2008023265.0",
         "ALUNO DE GRADUAÇÃO"
        ],
        [
         "6",
         "709686",
         "2006017618",
         "2010/01/26 08:07:01.738000000",
         "2010/01/04 08:08:44.081000000",
         "2010/02/25 07:36:25.800000000",
         "2008112114.0",
         "ALUNO DE PÓS-GRADUAÇÃO"
        ],
        [
         "7",
         "709687",
         "L184117",
         "2010/01/18 11:07:46.470000000",
         "2010/01/04 08:24:21.284000000",
         "2010/02/03 08:58:45.692000000",
         "200721119.0",
         "ALUNO DE GRADUAÇÃO"
        ],
        [
         "8",
         "709688",
         "2007027500",
         "2010/01/19 15:59:26.464000000",
         "2010/01/04 08:27:33.569000000",
         "2010/02/03 13:06:30.662000000",
         "2009045971.0",
         "ALUNO DE GRADUAÇÃO"
        ],
        [
         "9",
         "709689",
         "L157395",
         "2010/01/19 15:59:26.447000000",
         "2010/01/04 08:27:33.596000000",
         "2010/02/03 13:06:43.125000000",
         "2009045971.0",
         "ALUNO DE GRADUAÇÃO"
        ],
        [
         "10",
         "709690",
         "2007019312",
         null,
         "2010/01/04 08:49:57.857000000",
         "2010/01/13 09:58:25.443000000",
         "200701444.0",
         "ALUNO DE GRADUAÇÃO"
        ],
        [
         "11",
         "709691",
         "2008046357",
         "2010/01/19 11:50:13.404000000",
         "2010/01/04 09:02:30.576000000",
         "2010/02/02 12:13:36.132000000",
         "200507453.0",
         "ALUNO DE GRADUAÇÃO"
        ],
        [
         "12",
         "709692",
         "L187962",
         null,
         "2010/01/04 09:07:06.131000000",
         "2010/06/22 18:55:04.000000000",
         "200404369.0",
         "ALUNO DE GRADUAÇÃO"
        ],
        [
         "13",
         "709693",
         "L192776",
         null,
         "2010/01/04 09:07:06.159000000",
         "2010/06/22 18:54:46.000000000",
         "200404369.0",
         "ALUNO DE GRADUAÇÃO"
        ],
        [
         "14",
         "709694",
         "L202783",
         null,
         "2010/01/04 09:09:38.329000000",
         "2010/02/03 13:00:49.746000000",
         "198420637.0",
         "DOCENTE"
        ],
        [
         "15",
         "709695",
         "2007035128",
         null,
         "2010/01/04 09:14:55.681000000",
         "2010/01/14 10:15:08.388000000",
         "2008005020.0",
         "ALUNO DE GRADUAÇÃO"
        ],
        [
         "16",
         "709696",
         "L122346",
         null,
         "2010/01/04 09:14:55.721000000",
         "2010/01/14 10:15:16.041000000",
         "2008005020.0",
         "ALUNO DE GRADUAÇÃO"
        ],
        [
         "17",
         "709697",
         "L048797",
         null,
         "2010/01/04 09:18:17.514000000",
         "2010/01/14 10:14:59.964000000",
         "2008005020.0",
         "ALUNO DE GRADUAÇÃO"
        ],
        [
         "18",
         "709698",
         "2009047725",
         "2010/01/18 14:44:41.163000000",
         "2010/01/04 09:21:19.099000000",
         "2010/02/02 12:02:38.444000000",
         "2009046838.0",
         "ALUNO DE GRADUAÇÃO"
        ],
        [
         "19",
         "709698",
         "2009047725",
         "2010/01/18 14:44:41.163000000",
         "2010/01/04 09:21:19.099000000",
         "2010/02/02 12:02:38.444000000",
         "2009046838.0",
         "ALUNO DE GRADUAÇÃO"
        ],
        [
         "20",
         "709698",
         "2009047725",
         "2010/01/18 14:44:41.163000000",
         "2010/01/04 09:21:19.099000000",
         "2010/02/02 12:02:38.444000000",
         "2009046838.0",
         "ALUNO DE GRADUAÇÃO"
        ],
        [
         "21",
         "709699",
         "2009051872",
         "2010/01/18 14:44:41.144000000",
         "2010/01/04 09:21:19.126000000",
         "2010/02/02 12:03:35.649000000",
         "2009046838.0",
         "ALUNO DE GRADUAÇÃO"
        ],
        [
         "22",
         "709700",
         "L200358",
         null,
         "2010/01/04 09:42:28.589000000",
         "2010/01/04 09:42:56.820000000",
         "2010078996.0",
         "ALUNO DE GRADUAÇÃO"
        ],
        [
         "23",
         "709701",
         "L163841",
         "2010/01/19 19:02:53.450000000",
         "2010/01/04 09:48:05.604000000",
         "2010/02/04 18:23:49.946000000",
         "2008029450.0",
         "ALUNO DE GRADUAÇÃO"
        ],
        [
         "24",
         "709702",
         "L200904",
         "2010/01/19 19:02:53.430000000",
         "2010/01/04 09:48:05.637000000",
         "2010/02/04 18:23:55.925000000",
         "2008029450.0",
         "ALUNO DE GRADUAÇÃO"
        ],
        [
         "25",
         "709703",
         "2007020476",
         "2010/01/13 09:39:02.522000000",
         "2010/01/04 09:56:42.325000000",
         "2010/01/21 10:25:28.007000000",
         "200625578.0",
         "ALUNO DE GRADUAÇÃO"
        ],
        [
         "26",
         "709704",
         "2006021442",
         "2010/01/17 18:56:43.923000000",
         "2010/01/04 09:58:46.522000000",
         "2010/02/01 13:59:02.528000000",
         "2008009890.0",
         "ALUNO DE GRADUAÇÃO"
        ],
        [
         "27",
         "709705",
         "2009032168",
         "2010/01/17 18:56:43.909000000",
         "2010/01/04 09:58:46.549000000",
         "2010/01/20 13:14:34.464000000",
         "2008009890.0",
         "ALUNO DE GRADUAÇÃO"
        ],
        [
         "28",
         "709704",
         "2006021442",
         "2010/01/17 18:56:43.923000000",
         "2010/01/04 09:58:46.522000000",
         "2010/02/01 13:59:02.528000000",
         "2008009890.0",
         "ALUNO DE GRADUAÇÃO"
        ],
        [
         "29",
         "709705",
         "2009032168",
         "2010/01/17 18:56:43.909000000",
         "2010/01/04 09:58:46.549000000",
         "2010/01/20 13:14:34.464000000",
         "2008009890.0",
         "ALUNO DE GRADUAÇÃO"
        ],
        [
         "30",
         "709704",
         "2006021442",
         "2010/01/17 18:56:43.923000000",
         "2010/01/04 09:58:46.522000000",
         "2010/02/01 13:59:02.528000000",
         "2008009890.0",
         "ALUNO DE GRADUAÇÃO"
        ],
        [
         "31",
         "709705",
         "2009032168",
         "2010/01/17 18:56:43.909000000",
         "2010/01/04 09:58:46.549000000",
         "2010/01/20 13:14:34.464000000",
         "2008009890.0",
         "ALUNO DE GRADUAÇÃO"
        ],
        [
         "32",
         "709704",
         "2006021442",
         "2010/01/17 18:56:43.923000000",
         "2010/01/04 09:58:46.522000000",
         "2010/02/01 13:59:02.528000000",
         "2008009890.0",
         "ALUNO DE GRADUAÇÃO"
        ],
        [
         "33",
         "709705",
         "2009032168",
         "2010/01/17 18:56:43.909000000",
         "2010/01/04 09:58:46.549000000",
         "2010/01/20 13:14:34.464000000",
         "2008009890.0",
         "ALUNO DE GRADUAÇÃO"
        ],
        [
         "34",
         "709704",
         "2006021442",
         "2010/01/17 18:56:43.923000000",
         "2010/01/04 09:58:46.522000000",
         "2010/02/01 13:59:02.528000000",
         "2008009890.0",
         "ALUNO DE GRADUAÇÃO"
        ],
        [
         "35",
         "709705",
         "2009032168",
         "2010/01/17 18:56:43.909000000",
         "2010/01/04 09:58:46.549000000",
         "2010/01/20 13:14:34.464000000",
         "2008009890.0",
         "ALUNO DE GRADUAÇÃO"
        ],
        [
         "36",
         "709704",
         "2006021442",
         "2010/01/17 18:56:43.923000000",
         "2010/01/04 09:58:46.522000000",
         "2010/02/01 13:59:02.528000000",
         "2008009890.0",
         "ALUNO DE GRADUAÇÃO"
        ],
        [
         "37",
         "709705",
         "2009032168",
         "2010/01/17 18:56:43.909000000",
         "2010/01/04 09:58:46.549000000",
         "2010/01/20 13:14:34.464000000",
         "2008009890.0",
         "ALUNO DE GRADUAÇÃO"
        ],
        [
         "38",
         "709704",
         "2006021442",
         "2010/01/17 18:56:43.923000000",
         "2010/01/04 09:58:46.522000000",
         "2010/02/01 13:59:02.528000000",
         "2008009890.0",
         "ALUNO DE GRADUAÇÃO"
        ],
        [
         "39",
         "709705",
         "2009032168",
         "2010/01/17 18:56:43.909000000",
         "2010/01/04 09:58:46.549000000",
         "2010/01/20 13:14:34.464000000",
         "2008009890.0",
         "ALUNO DE GRADUAÇÃO"
        ],
        [
         "40",
         "709706",
         "2009032010",
         "2010/01/17 18:56:43.869000000",
         "2010/01/04 09:58:46.575000000",
         "2010/02/01 13:58:46.387000000",
         "2008009890.0",
         "ALUNO DE GRADUAÇÃO"
        ],
        [
         "41",
         "709707",
         "2008000130",
         null,
         "2010/01/04 10:00:22.435000000",
         "2010/01/13 10:01:45.234000000",
         "200711946.0",
         "ALUNO DE GRADUAÇÃO"
        ],
        [
         "42",
         "709708",
         "L134569",
         null,
         "2010/01/04 10:00:22.459000000",
         "2010/01/18 10:12:44.020000000",
         "200711946.0",
         "ALUNO DE GRADUAÇÃO"
        ],
        [
         "43",
         "709709",
         "2009011815",
         "2010/02/03 12:58:49.734000000",
         "2010/01/04 10:02:59.828000000",
         "2010/03/02 16:38:38.231000000",
         "2008106583.0",
         "ALUNO DE PÓS-GRADUAÇÃO"
        ],
        [
         "44",
         "709710",
         "L198816",
         null,
         "2010/01/04 10:04:17.306000000",
         "2010/01/05 11:26:52.938000000",
         "200506718.0",
         "ALUNO DE GRADUAÇÃO"
        ],
        [
         "45",
         "709711",
         "L198806",
         null,
         "2010/01/04 10:04:17.344000000",
         "2010/01/05 11:26:42.492000000",
         "200506718.0",
         "ALUNO DE GRADUAÇÃO"
        ],
        [
         "46",
         "709712",
         "2007033792",
         null,
         "2010/01/04 10:07:00.939000000",
         "2010/01/20 10:30:58.689000000",
         "198423750.0",
         "DOCENTE"
        ],
        [
         "47",
         "709713",
         "2008010513",
         null,
         "2010/01/04 10:23:39.830000000",
         "2010/01/05 11:57:06.156000000",
         "2011101417.0",
         "ALUNO DE PÓS-GRADUAÇÃO"
        ],
        [
         "48",
         "709714",
         "2008046332",
         null,
         "2010/01/04 10:23:39.859000000",
         "2010/01/05 11:57:01.461000000",
         "2011101417.0",
         "ALUNO DE PÓS-GRADUAÇÃO"
        ],
        [
         "49",
         "709715",
         "L200359",
         "2010/01/19 14:38:53.133000000",
         "2010/01/04 10:28:01.480000000",
         "2010/02/01 14:41:13.147000000",
         "2010078996.0",
         "ALUNO DE GRADUAÇÃO"
        ]
       ],
       "shape": {
        "columns": 7,
        "rows": 2258018
       }
      },
      "text/html": [
       "<div>\n",
       "<style scoped>\n",
       "    .dataframe tbody tr th:only-of-type {\n",
       "        vertical-align: middle;\n",
       "    }\n",
       "\n",
       "    .dataframe tbody tr th {\n",
       "        vertical-align: top;\n",
       "    }\n",
       "\n",
       "    .dataframe thead th {\n",
       "        text-align: right;\n",
       "    }\n",
       "</style>\n",
       "<table border=\"1\" class=\"dataframe\">\n",
       "  <thead>\n",
       "    <tr style=\"text-align: right;\">\n",
       "      <th></th>\n",
       "      <th>id_emprestimo</th>\n",
       "      <th>codigo_barras</th>\n",
       "      <th>data_renovacao</th>\n",
       "      <th>data_emprestimo</th>\n",
       "      <th>data_devolucao</th>\n",
       "      <th>matricula_ou_siape</th>\n",
       "      <th>tipo_vinculo_usuario</th>\n",
       "    </tr>\n",
       "  </thead>\n",
       "  <tbody>\n",
       "    <tr>\n",
       "      <th>0</th>\n",
       "      <td>709684</td>\n",
       "      <td>L095049</td>\n",
       "      <td>NaN</td>\n",
       "      <td>2010/01/04 07:44:10.721000000</td>\n",
       "      <td>2010/01/05 16:26:12.662000000</td>\n",
       "      <td>2.008023e+09</td>\n",
       "      <td>ALUNO DE GRADUAÇÃO</td>\n",
       "    </tr>\n",
       "    <tr>\n",
       "      <th>1</th>\n",
       "      <td>709685</td>\n",
       "      <td>L167050</td>\n",
       "      <td>NaN</td>\n",
       "      <td>2010/01/04 07:44:10.750000000</td>\n",
       "      <td>2010/01/12 07:34:13.934000000</td>\n",
       "      <td>2.008023e+09</td>\n",
       "      <td>ALUNO DE GRADUAÇÃO</td>\n",
       "    </tr>\n",
       "    <tr>\n",
       "      <th>2</th>\n",
       "      <td>709686</td>\n",
       "      <td>2006017618</td>\n",
       "      <td>2010/01/26 08:07:01.738000000</td>\n",
       "      <td>2010/01/04 08:08:44.081000000</td>\n",
       "      <td>2010/02/25 07:36:25.800000000</td>\n",
       "      <td>2.008112e+09</td>\n",
       "      <td>ALUNO DE PÓS-GRADUAÇÃO</td>\n",
       "    </tr>\n",
       "    <tr>\n",
       "      <th>3</th>\n",
       "      <td>709687</td>\n",
       "      <td>L184117</td>\n",
       "      <td>2010/01/18 11:07:46.470000000</td>\n",
       "      <td>2010/01/04 08:24:21.284000000</td>\n",
       "      <td>2010/02/03 08:58:45.692000000</td>\n",
       "      <td>2.007211e+08</td>\n",
       "      <td>ALUNO DE GRADUAÇÃO</td>\n",
       "    </tr>\n",
       "    <tr>\n",
       "      <th>4</th>\n",
       "      <td>709684</td>\n",
       "      <td>L095049</td>\n",
       "      <td>NaN</td>\n",
       "      <td>2010/01/04 07:44:10.721000000</td>\n",
       "      <td>2010/01/05 16:26:12.662000000</td>\n",
       "      <td>2.008023e+09</td>\n",
       "      <td>ALUNO DE GRADUAÇÃO</td>\n",
       "    </tr>\n",
       "    <tr>\n",
       "      <th>...</th>\n",
       "      <td>...</td>\n",
       "      <td>...</td>\n",
       "      <td>...</td>\n",
       "      <td>...</td>\n",
       "      <td>...</td>\n",
       "      <td>...</td>\n",
       "      <td>...</td>\n",
       "    </tr>\n",
       "    <tr>\n",
       "      <th>2258013</th>\n",
       "      <td>2989086</td>\n",
       "      <td>2008047044</td>\n",
       "      <td>NaN</td>\n",
       "      <td>2020/05/05 19:51:06.059000000</td>\n",
       "      <td>2021/05/13 14:53:31.000000000</td>\n",
       "      <td>3.067431e+06</td>\n",
       "      <td>SERVIDOR TÉCNICO-ADMINISTRATIVO</td>\n",
       "    </tr>\n",
       "    <tr>\n",
       "      <th>2258014</th>\n",
       "      <td>2989087</td>\n",
       "      <td>2008047047</td>\n",
       "      <td>NaN</td>\n",
       "      <td>2020/05/05 19:51:06.135000000</td>\n",
       "      <td>2021/05/13 14:53:38.000000000</td>\n",
       "      <td>3.067431e+06</td>\n",
       "      <td>SERVIDOR TÉCNICO-ADMINISTRATIVO</td>\n",
       "    </tr>\n",
       "    <tr>\n",
       "      <th>2258015</th>\n",
       "      <td>2989088</td>\n",
       "      <td>2010052905</td>\n",
       "      <td>NaN</td>\n",
       "      <td>2020/05/05 19:51:06.164000000</td>\n",
       "      <td>2021/05/13 15:01:46.000000000</td>\n",
       "      <td>3.067431e+06</td>\n",
       "      <td>SERVIDOR TÉCNICO-ADMINISTRATIVO</td>\n",
       "    </tr>\n",
       "    <tr>\n",
       "      <th>2258016</th>\n",
       "      <td>2989089</td>\n",
       "      <td>2010048023</td>\n",
       "      <td>NaN</td>\n",
       "      <td>2020/06/09 11:54:02.669000000</td>\n",
       "      <td>2021/07/21 15:33:55.000000000</td>\n",
       "      <td>2.020101e+10</td>\n",
       "      <td>ALUNO DE PÓS-GRADUAÇÃO</td>\n",
       "    </tr>\n",
       "    <tr>\n",
       "      <th>2258017</th>\n",
       "      <td>2989090</td>\n",
       "      <td>2013106838</td>\n",
       "      <td>NaN</td>\n",
       "      <td>2020/06/09 11:54:02.852000000</td>\n",
       "      <td>2021/07/21 15:33:45.000000000</td>\n",
       "      <td>2.020101e+10</td>\n",
       "      <td>ALUNO DE PÓS-GRADUAÇÃO</td>\n",
       "    </tr>\n",
       "  </tbody>\n",
       "</table>\n",
       "<p>2258018 rows × 7 columns</p>\n",
       "</div>"
      ],
      "text/plain": [
       "         id_emprestimo codigo_barras                 data_renovacao  \\\n",
       "0               709684       L095049                            NaN   \n",
       "1               709685       L167050                            NaN   \n",
       "2               709686    2006017618  2010/01/26 08:07:01.738000000   \n",
       "3               709687       L184117  2010/01/18 11:07:46.470000000   \n",
       "4               709684       L095049                            NaN   \n",
       "...                ...           ...                            ...   \n",
       "2258013        2989086    2008047044                            NaN   \n",
       "2258014        2989087    2008047047                            NaN   \n",
       "2258015        2989088    2010052905                            NaN   \n",
       "2258016        2989089    2010048023                            NaN   \n",
       "2258017        2989090    2013106838                            NaN   \n",
       "\n",
       "                       data_emprestimo                 data_devolucao  \\\n",
       "0        2010/01/04 07:44:10.721000000  2010/01/05 16:26:12.662000000   \n",
       "1        2010/01/04 07:44:10.750000000  2010/01/12 07:34:13.934000000   \n",
       "2        2010/01/04 08:08:44.081000000  2010/02/25 07:36:25.800000000   \n",
       "3        2010/01/04 08:24:21.284000000  2010/02/03 08:58:45.692000000   \n",
       "4        2010/01/04 07:44:10.721000000  2010/01/05 16:26:12.662000000   \n",
       "...                                ...                            ...   \n",
       "2258013  2020/05/05 19:51:06.059000000  2021/05/13 14:53:31.000000000   \n",
       "2258014  2020/05/05 19:51:06.135000000  2021/05/13 14:53:38.000000000   \n",
       "2258015  2020/05/05 19:51:06.164000000  2021/05/13 15:01:46.000000000   \n",
       "2258016  2020/06/09 11:54:02.669000000  2021/07/21 15:33:55.000000000   \n",
       "2258017  2020/06/09 11:54:02.852000000  2021/07/21 15:33:45.000000000   \n",
       "\n",
       "         matricula_ou_siape             tipo_vinculo_usuario  \n",
       "0              2.008023e+09               ALUNO DE GRADUAÇÃO  \n",
       "1              2.008023e+09               ALUNO DE GRADUAÇÃO  \n",
       "2              2.008112e+09           ALUNO DE PÓS-GRADUAÇÃO  \n",
       "3              2.007211e+08               ALUNO DE GRADUAÇÃO  \n",
       "4              2.008023e+09               ALUNO DE GRADUAÇÃO  \n",
       "...                     ...                              ...  \n",
       "2258013        3.067431e+06  SERVIDOR TÉCNICO-ADMINISTRATIVO  \n",
       "2258014        3.067431e+06  SERVIDOR TÉCNICO-ADMINISTRATIVO  \n",
       "2258015        3.067431e+06  SERVIDOR TÉCNICO-ADMINISTRATIVO  \n",
       "2258016        2.020101e+10           ALUNO DE PÓS-GRADUAÇÃO  \n",
       "2258017        2.020101e+10           ALUNO DE PÓS-GRADUAÇÃO  \n",
       "\n",
       "[2258018 rows x 7 columns]"
      ]
     },
     "execution_count": 4,
     "metadata": {},
     "output_type": "execute_result"
    }
   ],
   "source": [
    "# Concatenar os dataframes\n",
    "emprestimo_lib = pd.concat(emprestimo_dataframes.values(), ignore_index=True)\n",
    "emprestimo_lib"
   ]
  },
  {
   "cell_type": "code",
   "execution_count": 5,
   "id": "8cef768b",
   "metadata": {},
   "outputs": [
    {
     "data": {
      "text/plain": [
       "np.int64(37)"
      ]
     },
     "execution_count": 5,
     "metadata": {},
     "output_type": "execute_result"
    }
   ],
   "source": [
    "# Verificar linhas duplicatas\n",
    "total_duplicatas = emprestimo_lib.duplicated().sum()\n",
    "total_duplicatas"
   ]
  },
  {
   "cell_type": "code",
   "execution_count": 6,
   "id": "007ee040",
   "metadata": {},
   "outputs": [
    {
     "data": {
      "text/plain": [
       "np.False_"
      ]
     },
     "execution_count": 6,
     "metadata": {},
     "output_type": "execute_result"
    }
   ],
   "source": [
    "# Remover duplicatas\n",
    "emprestimo_lib = emprestimo_lib.drop_duplicates()\n",
    "\n",
    "# Verificar novamente\n",
    "emprestimo_lib.duplicated().any()  # Deve retornar False"
   ]
  },
  {
   "cell_type": "code",
   "execution_count": 7,
   "id": "a2da5a90",
   "metadata": {},
   "outputs": [
    {
     "data": {
      "text/plain": [
       "(2257981, 7)"
      ]
     },
     "execution_count": 7,
     "metadata": {},
     "output_type": "execute_result"
    }
   ],
   "source": [
    "emprestimo_lib.shape"
   ]
  },
  {
   "cell_type": "code",
   "execution_count": 8,
   "id": "1c23414a",
   "metadata": {},
   "outputs": [
    {
     "data": {
      "application/vnd.microsoft.datawrangler.viewer.v0+json": {
       "columns": [
        {
         "name": "index",
         "rawType": "int64",
         "type": "integer"
        },
        {
         "name": "id_exemplar",
         "rawType": "int64",
         "type": "integer"
        },
        {
         "name": "codigo_barras",
         "rawType": "object",
         "type": "string"
        },
        {
         "name": "colecao",
         "rawType": "object",
         "type": "string"
        },
        {
         "name": "biblioteca",
         "rawType": "object",
         "type": "string"
        },
        {
         "name": "status_material",
         "rawType": "object",
         "type": "string"
        },
        {
         "name": "localizacao",
         "rawType": "int64",
         "type": "integer"
        },
        {
         "name": "registro_sistema",
         "rawType": "int64",
         "type": "integer"
        }
       ],
       "conversionMethod": "pd.DataFrame",
       "ref": "1d0ea38e-7753-4104-befb-a8ded27f53c3",
       "rows": [
        [
         "0",
         "5",
         "L000003",
         "Acervo Circulante",
         "Biblioteca Central Zila Mamede",
         "REGULAR",
         "694",
         "1"
        ],
        [
         "1",
         "4",
         "L000002",
         "Acervo Circulante",
         "Biblioteca Central Zila Mamede",
         "REGULAR",
         "688",
         "1"
        ],
        [
         "2",
         "3",
         "L000001",
         "Acervo Circulante",
         "Biblioteca Central Zila Mamede",
         "ESPECIAL",
         "638",
         "1"
        ],
        [
         "3",
         "7",
         "L000114",
         "Acervo Circulante",
         "Biblioteca Central Zila Mamede",
         "REGULAR",
         "616",
         "5"
        ],
        [
         "5",
         "10",
         "L000041",
         "Acervo Circulante",
         "Biblioteca Central Zila Mamede",
         "ESPECIAL",
         "657",
         "15"
        ],
        [
         "7",
         "13",
         "L000924",
         "Dissertações",
         "Biblioteca Central Zila Mamede",
         "REGULAR",
         "651",
         "18"
        ],
        [
         "8",
         "12",
         "L000056",
         "Dissertações",
         "Biblioteca Central Zila Mamede",
         "NÃO CIRCULA",
         "647",
         "18"
        ],
        [
         "12",
         "19",
         "L116810_23/09/2020 00:01:33",
         "Acervo Circulante",
         "Biblioteca Central Zila Mamede",
         "REGULAR",
         "661",
         "32"
        ],
        [
         "13",
         "20",
         "L000088",
         "Acervo Circulante",
         "Biblioteca Central Zila Mamede",
         "ESPECIAL",
         "683",
         "33"
        ],
        [
         "14",
         "21",
         "L117745",
         "Acervo Circulante",
         "Biblioteca Central Zila Mamede",
         "REGULAR",
         "655",
         "35"
        ],
        [
         "15",
         "23",
         "L000102",
         "Acervo Circulante",
         "Biblioteca Central Zila Mamede",
         "REGULAR",
         "690",
         "37"
        ],
        [
         "16",
         "22",
         "L000100",
         "Acervo Circulante",
         "Biblioteca Central Zila Mamede",
         "ESPECIAL",
         "684",
         "37"
        ],
        [
         "17",
         "25",
         "L000131",
         "Acervo Circulante",
         "Biblioteca Central Zila Mamede",
         "REGULAR",
         "612",
         "37"
        ],
        [
         "18",
         "26",
         "L000132",
         "Acervo Circulante",
         "Biblioteca Central Zila Mamede",
         "REGULAR",
         "662",
         "37"
        ],
        [
         "19",
         "27",
         "L000133_11/05/2018 08:57:56",
         "Acervo Circulante",
         "Biblioteca Central Zila Mamede",
         "REGULAR",
         "691",
         "37"
        ],
        [
         "20",
         "28",
         "FD00103",
         "Acervo Circulante",
         "Biblioteca Central Zila Mamede",
         "ESPECIAL",
         "659",
         "38"
        ],
        [
         "22",
         "31",
         "EE00198_05/08/2020 17:40:51",
         "Acervo Circulante",
         "Biblioteca Central Zila Mamede",
         "REGULAR",
         "604",
         "44"
        ],
        [
         "24",
         "34",
         "L000134_09/09/2020 11:02:36",
         "Acervo Circulante",
         "Biblioteca Central Zila Mamede",
         "ESPECIAL",
         "601",
         "50"
        ],
        [
         "25",
         "35",
         "FD00138_08/08/2020 11:52:00",
         "Acervo Circulante",
         "Biblioteca Central Zila Mamede",
         "REGULAR",
         "686",
         "51"
        ],
        [
         "26",
         "36",
         "L000141_26/11/2019 09:53:38",
         "Acervo Circulante",
         "Biblioteca Central Zila Mamede",
         "NÃO CIRCULA",
         "679",
         "52"
        ],
        [
         "28",
         "39",
         "EE00148",
         "Acervo Circulante",
         "Biblioteca Central Zila Mamede",
         "REGULAR",
         "632",
         "55"
        ],
        [
         "29",
         "40",
         "EE00729",
         "Acervo Circulante",
         "Biblioteca Central Zila Mamede",
         "REGULAR",
         "609",
         "55"
        ],
        [
         "30",
         "41",
         "L000149_09/10/2018 07:48:47",
         "Acervo Circulante",
         "Biblioteca Central Zila Mamede",
         "NÃO CIRCULA",
         "606",
         "56"
        ],
        [
         "31",
         "42",
         "L178870",
         "Acervo Circulante",
         "Biblioteca Central Zila Mamede",
         "ESPECIAL",
         "657",
         "57"
        ],
        [
         "32",
         "43",
         "L000154",
         "Acervo Circulante",
         "Biblioteca Central Zila Mamede",
         "REGULAR",
         "616",
         "59"
        ],
        [
         "33",
         "44",
         "FE00163_09/08/2019 16:26:03",
         "Acervo Circulante",
         "Biblioteca Central Zila Mamede",
         "REGULAR",
         "666",
         "61"
        ],
        [
         "34",
         "45",
         "L162424",
         "Acervo Circulante",
         "Biblioteca Central Zila Mamede",
         "REGULAR",
         "673",
         "61"
        ],
        [
         "35",
         "47",
         "IA00175_09/09/2020 10:59:47",
         "Acervo Circulante",
         "Biblioteca Central Zila Mamede",
         "ESPECIAL",
         "618",
         "64"
        ],
        [
         "36",
         "48",
         "SCB0185_15/07/2020 12:16:02",
         "Acervo Circulante",
         "Biblioteca Central Zila Mamede",
         "ESPECIAL",
         "687",
         "65"
        ],
        [
         "37",
         "49",
         "FD00187_08/08/2020 12:04:33",
         "Acervo Circulante",
         "Biblioteca Central Zila Mamede",
         "REGULAR",
         "655",
         "66"
        ],
        [
         "38",
         "50",
         "L000217",
         "Acervo Circulante",
         "Biblioteca Central Zila Mamede",
         "REGULAR",
         "686",
         "69"
        ],
        [
         "39",
         "51",
         "ES00219_05/08/2020 17:52:11",
         "Acervo Circulante",
         "Biblioteca Central Zila Mamede",
         "REGULAR",
         "638",
         "71"
        ],
        [
         "40",
         "52",
         "FD00220_08/08/2020 12:12:58",
         "Acervo Circulante",
         "Biblioteca Central Zila Mamede",
         "REGULAR",
         "608",
         "72"
        ],
        [
         "41",
         "53",
         "L000225_26/11/2019 09:55:29",
         "Acervo Circulante",
         "Biblioteca Central Zila Mamede",
         "NÃO CIRCULA",
         "699",
         "75"
        ],
        [
         "42",
         "55",
         "L000238",
         "Acervo Circulante",
         "Biblioteca Central Zila Mamede",
         "NÃO CIRCULA",
         "639",
         "79"
        ],
        [
         "43",
         "56",
         "FD00244_18/08/2011 09:36:02",
         "Acervo Circulante",
         "Biblioteca Central Zila Mamede",
         "REGULAR",
         "609",
         "80"
        ],
        [
         "46",
         "59",
         "L000258",
         "Acervo Circulante",
         "Biblioteca Central Zila Mamede",
         "NÃO CIRCULA",
         "696",
         "85"
        ],
        [
         "47",
         "60",
         "IA00264_09/09/2020 11:00:12",
         "Acervo Circulante",
         "Biblioteca Central Zila Mamede",
         "ESPECIAL",
         "685",
         "89"
        ],
        [
         "48",
         "61",
         "L000267_14/07/2017 09:31:00",
         "Dissertações",
         "Biblioteca Central Zila Mamede",
         "ESPECIAL",
         "690",
         "90"
        ],
        [
         "49",
         "62",
         "L00121300_14/07/2017 09:22:19",
         "Acervo Circulante",
         "Biblioteca Central Zila Mamede",
         "REGULAR",
         "639",
         "90"
        ],
        [
         "50",
         "63",
         "A003778",
         "Dissertações",
         "Biblioteca Setorial Moacyr de Góes - CE",
         "ESPECIAL",
         "640",
         "90"
        ],
        [
         "51",
         "64",
         "A004031",
         "Dissertações",
         "Biblioteca Setorial Moacyr de Góes - CE",
         "ESPECIAL",
         "621",
         "90"
        ],
        [
         "52",
         "81",
         "L000298",
         "Acervo Circulante",
         "Biblioteca Central Zila Mamede",
         "NÃO CIRCULA",
         "635",
         "107"
        ],
        [
         "53",
         "82",
         "ES00305_05/08/2020 17:54:10",
         "Acervo Circulante",
         "Biblioteca Central Zila Mamede",
         "ESPECIAL",
         "649",
         "108"
        ],
        [
         "55",
         "84",
         "L002180_09/09/2020 11:50:25",
         "Acervo Circulante",
         "Biblioteca Central Zila Mamede",
         "REGULAR",
         "679",
         "113"
        ],
        [
         "56",
         "85",
         "L000324",
         "Acervo Circulante",
         "Biblioteca Central Zila Mamede",
         "NÃO CIRCULA",
         "633",
         "114"
        ],
        [
         "57",
         "86",
         "2009011434",
         "Acervo Circulante",
         "Biblioteca Setorial do Centro de Ciências Humanas, Letras e Artes - CCHLA",
         "ESPECIAL",
         "642",
         "118"
        ],
        [
         "58",
         "90",
         "FD00357_24/08/2020 13:43:06",
         "Acervo Circulante",
         "Biblioteca Central Zila Mamede",
         "ESPECIAL",
         "656",
         "122"
        ],
        [
         "59",
         "91",
         "L000361",
         "Acervo Circulante",
         "Biblioteca Central Zila Mamede",
         "NÃO CIRCULA",
         "663",
         "123"
        ],
        [
         "60",
         "94",
         "L000395",
         "Acervo Circulante",
         "Biblioteca Central Zila Mamede",
         "NÃO CIRCULA",
         "629",
         "131"
        ]
       ],
       "shape": {
        "columns": 7,
        "rows": 546237
       }
      },
      "text/html": [
       "<div>\n",
       "<style scoped>\n",
       "    .dataframe tbody tr th:only-of-type {\n",
       "        vertical-align: middle;\n",
       "    }\n",
       "\n",
       "    .dataframe tbody tr th {\n",
       "        vertical-align: top;\n",
       "    }\n",
       "\n",
       "    .dataframe thead th {\n",
       "        text-align: right;\n",
       "    }\n",
       "</style>\n",
       "<table border=\"1\" class=\"dataframe\">\n",
       "  <thead>\n",
       "    <tr style=\"text-align: right;\">\n",
       "      <th></th>\n",
       "      <th>id_exemplar</th>\n",
       "      <th>codigo_barras</th>\n",
       "      <th>colecao</th>\n",
       "      <th>biblioteca</th>\n",
       "      <th>status_material</th>\n",
       "      <th>localizacao</th>\n",
       "      <th>registro_sistema</th>\n",
       "    </tr>\n",
       "    <tr>\n",
       "      <th>index</th>\n",
       "      <th></th>\n",
       "      <th></th>\n",
       "      <th></th>\n",
       "      <th></th>\n",
       "      <th></th>\n",
       "      <th></th>\n",
       "      <th></th>\n",
       "    </tr>\n",
       "  </thead>\n",
       "  <tbody>\n",
       "    <tr>\n",
       "      <th>0</th>\n",
       "      <td>5</td>\n",
       "      <td>L000003</td>\n",
       "      <td>Acervo Circulante</td>\n",
       "      <td>Biblioteca Central Zila Mamede</td>\n",
       "      <td>REGULAR</td>\n",
       "      <td>694</td>\n",
       "      <td>1</td>\n",
       "    </tr>\n",
       "    <tr>\n",
       "      <th>1</th>\n",
       "      <td>4</td>\n",
       "      <td>L000002</td>\n",
       "      <td>Acervo Circulante</td>\n",
       "      <td>Biblioteca Central Zila Mamede</td>\n",
       "      <td>REGULAR</td>\n",
       "      <td>688</td>\n",
       "      <td>1</td>\n",
       "    </tr>\n",
       "    <tr>\n",
       "      <th>2</th>\n",
       "      <td>3</td>\n",
       "      <td>L000001</td>\n",
       "      <td>Acervo Circulante</td>\n",
       "      <td>Biblioteca Central Zila Mamede</td>\n",
       "      <td>ESPECIAL</td>\n",
       "      <td>638</td>\n",
       "      <td>1</td>\n",
       "    </tr>\n",
       "    <tr>\n",
       "      <th>3</th>\n",
       "      <td>7</td>\n",
       "      <td>L000114</td>\n",
       "      <td>Acervo Circulante</td>\n",
       "      <td>Biblioteca Central Zila Mamede</td>\n",
       "      <td>REGULAR</td>\n",
       "      <td>616</td>\n",
       "      <td>5</td>\n",
       "    </tr>\n",
       "    <tr>\n",
       "      <th>5</th>\n",
       "      <td>10</td>\n",
       "      <td>L000041</td>\n",
       "      <td>Acervo Circulante</td>\n",
       "      <td>Biblioteca Central Zila Mamede</td>\n",
       "      <td>ESPECIAL</td>\n",
       "      <td>657</td>\n",
       "      <td>15</td>\n",
       "    </tr>\n",
       "    <tr>\n",
       "      <th>...</th>\n",
       "      <td>...</td>\n",
       "      <td>...</td>\n",
       "      <td>...</td>\n",
       "      <td>...</td>\n",
       "      <td>...</td>\n",
       "      <td>...</td>\n",
       "      <td>...</td>\n",
       "    </tr>\n",
       "    <tr>\n",
       "      <th>568580</th>\n",
       "      <td>1353472</td>\n",
       "      <td>2021011150</td>\n",
       "      <td>Acervo Circulante</td>\n",
       "      <td>Biblioteca Setorial do Núcleo de Educação da I...</td>\n",
       "      <td>REGULAR</td>\n",
       "      <td>951</td>\n",
       "      <td>268231</td>\n",
       "    </tr>\n",
       "    <tr>\n",
       "      <th>568581</th>\n",
       "      <td>1353473</td>\n",
       "      <td>2019013454</td>\n",
       "      <td>Acervo Circulante</td>\n",
       "      <td>Biblioteca Central Zila Mamede</td>\n",
       "      <td>ESPECIAL</td>\n",
       "      <td>997</td>\n",
       "      <td>268233</td>\n",
       "    </tr>\n",
       "    <tr>\n",
       "      <th>568582</th>\n",
       "      <td>1353474</td>\n",
       "      <td>2019012811</td>\n",
       "      <td>Acervo Circulante</td>\n",
       "      <td>Biblioteca Central Zila Mamede</td>\n",
       "      <td>ESPECIAL</td>\n",
       "      <td>987</td>\n",
       "      <td>268234</td>\n",
       "    </tr>\n",
       "    <tr>\n",
       "      <th>568583</th>\n",
       "      <td>1353475</td>\n",
       "      <td>2019013451</td>\n",
       "      <td>Acervo Circulante</td>\n",
       "      <td>Biblioteca Central Zila Mamede</td>\n",
       "      <td>ESPECIAL</td>\n",
       "      <td>764</td>\n",
       "      <td>268235</td>\n",
       "    </tr>\n",
       "    <tr>\n",
       "      <th>568584</th>\n",
       "      <td>1353476</td>\n",
       "      <td>2019012276</td>\n",
       "      <td>Acervo Circulante</td>\n",
       "      <td>Biblioteca Central Zila Mamede</td>\n",
       "      <td>ESPECIAL</td>\n",
       "      <td>962</td>\n",
       "      <td>268236</td>\n",
       "    </tr>\n",
       "  </tbody>\n",
       "</table>\n",
       "<p>546237 rows × 7 columns</p>\n",
       "</div>"
      ],
      "text/plain": [
       "        id_exemplar codigo_barras            colecao  \\\n",
       "index                                                  \n",
       "0                 5       L000003  Acervo Circulante   \n",
       "1                 4       L000002  Acervo Circulante   \n",
       "2                 3       L000001  Acervo Circulante   \n",
       "3                 7       L000114  Acervo Circulante   \n",
       "5                10       L000041  Acervo Circulante   \n",
       "...             ...           ...                ...   \n",
       "568580      1353472    2021011150  Acervo Circulante   \n",
       "568581      1353473    2019013454  Acervo Circulante   \n",
       "568582      1353474    2019012811  Acervo Circulante   \n",
       "568583      1353475    2019013451  Acervo Circulante   \n",
       "568584      1353476    2019012276  Acervo Circulante   \n",
       "\n",
       "                                               biblioteca status_material  \\\n",
       "index                                                                       \n",
       "0                          Biblioteca Central Zila Mamede         REGULAR   \n",
       "1                          Biblioteca Central Zila Mamede         REGULAR   \n",
       "2                          Biblioteca Central Zila Mamede        ESPECIAL   \n",
       "3                          Biblioteca Central Zila Mamede         REGULAR   \n",
       "5                          Biblioteca Central Zila Mamede        ESPECIAL   \n",
       "...                                                   ...             ...   \n",
       "568580  Biblioteca Setorial do Núcleo de Educação da I...         REGULAR   \n",
       "568581                     Biblioteca Central Zila Mamede        ESPECIAL   \n",
       "568582                     Biblioteca Central Zila Mamede        ESPECIAL   \n",
       "568583                     Biblioteca Central Zila Mamede        ESPECIAL   \n",
       "568584                     Biblioteca Central Zila Mamede        ESPECIAL   \n",
       "\n",
       "        localizacao  registro_sistema  \n",
       "index                                  \n",
       "0               694                 1  \n",
       "1               688                 1  \n",
       "2               638                 1  \n",
       "3               616                 5  \n",
       "5               657                15  \n",
       "...             ...               ...  \n",
       "568580          951            268231  \n",
       "568581          997            268233  \n",
       "568582          987            268234  \n",
       "568583          764            268235  \n",
       "568584          962            268236  \n",
       "\n",
       "[546237 rows x 7 columns]"
      ]
     },
     "execution_count": 8,
     "metadata": {},
     "output_type": "execute_result"
    }
   ],
   "source": [
    "# Importar dados exemplares\n",
    "dados_exemplares = pd.read_parquet('dados_exemplares/dados_exemplares.parquet')\n",
    "dados_exemplares"
   ]
  },
  {
   "cell_type": "code",
   "execution_count": 9,
   "id": "d93482d3",
   "metadata": {},
   "outputs": [
    {
     "data": {
      "text/plain": [
       "(2072522, 13)"
      ]
     },
     "execution_count": 9,
     "metadata": {},
     "output_type": "execute_result"
    }
   ],
   "source": [
    "# Juntar os dataframes em um só\n",
    "emprestimo_acervo = emprestimo_lib.merge(dados_exemplares)\n",
    "emprestimo_acervo.shape"
   ]
  },
  {
   "cell_type": "code",
   "execution_count": 10,
   "id": "e931fdd3",
   "metadata": {},
   "outputs": [],
   "source": [
    "emprestimo_acervo.to_parquet('emprestimos_acervo/emprestimos_acervo.parquet')"
   ]
  }
 ],
 "metadata": {
  "kernelspec": {
   "display_name": "Python 3",
   "language": "python",
   "name": "python3"
  },
  "language_info": {
   "codemirror_mode": {
    "name": "ipython",
    "version": 3
   },
   "file_extension": ".py",
   "mimetype": "text/x-python",
   "name": "python",
   "nbconvert_exporter": "python",
   "pygments_lexer": "ipython3",
   "version": "3.11.9"
  }
 },
 "nbformat": 4,
 "nbformat_minor": 5
}

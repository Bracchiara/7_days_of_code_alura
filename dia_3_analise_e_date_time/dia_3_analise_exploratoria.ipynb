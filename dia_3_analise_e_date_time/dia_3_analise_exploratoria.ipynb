{
 "cells": [
  {
   "cell_type": "code",
   "execution_count": 25,
   "id": "0eeb0a27",
   "metadata": {},
   "outputs": [],
   "source": [
    "import pandas as pd\n",
    "import matplotlib.pyplot as plt\n",
    "import seaborn as sns"
   ]
  },
  {
   "cell_type": "code",
   "execution_count": 26,
   "id": "52575960",
   "metadata": {},
   "outputs": [
    {
     "data": {
      "application/vnd.microsoft.datawrangler.viewer.v0+json": {
       "columns": [
        {
         "name": "index",
         "rawType": "int64",
         "type": "integer"
        },
        {
         "name": "id_emprestimo",
         "rawType": "int64",
         "type": "integer"
        },
        {
         "name": "codigo_barras",
         "rawType": "object",
         "type": "string"
        },
        {
         "name": "data_renovacao",
         "rawType": "object",
         "type": "unknown"
        },
        {
         "name": "data_emprestimo",
         "rawType": "object",
         "type": "string"
        },
        {
         "name": "data_devolucao",
         "rawType": "object",
         "type": "string"
        },
        {
         "name": "matricula_ou_siape",
         "rawType": "string",
         "type": "string"
        },
        {
         "name": "tipo_vinculo_usuario",
         "rawType": "object",
         "type": "string"
        },
        {
         "name": "id_exemplar",
         "rawType": "int64",
         "type": "integer"
        },
        {
         "name": "colecao",
         "rawType": "object",
         "type": "string"
        },
        {
         "name": "biblioteca",
         "rawType": "object",
         "type": "string"
        },
        {
         "name": "status_material",
         "rawType": "object",
         "type": "string"
        },
        {
         "name": "localizacao",
         "rawType": "int64",
         "type": "integer"
        },
        {
         "name": "CDU",
         "rawType": "object",
         "type": "string"
        }
       ],
       "conversionMethod": "pd.DataFrame",
       "ref": "c0551b03-6da8-4515-9701-9e2fdc7894f9",
       "rows": [
        [
         "0",
         "709684",
         "L095049",
         null,
         "2010/01/04 07:44:10.721000000",
         "2010/01/05 16:26:12.662000000",
         "2008023265.0",
         "ALUNO DE GRADUAÇÃO",
         "13259",
         "Acervo Circulante",
         "Biblioteca Central Zila Mamede",
         "REGULAR",
         "630",
         "Ciências aplicadas."
        ],
        [
         "1",
         "709685",
         "L167050",
         null,
         "2010/01/04 07:44:10.750000000",
         "2010/01/12 07:34:13.934000000",
         "2008023265.0",
         "ALUNO DE GRADUAÇÃO",
         "70865",
         "Acervo Circulante",
         "Biblioteca Central Zila Mamede",
         "REGULAR",
         "647",
         "Ciências aplicadas."
        ],
        [
         "2",
         "709686",
         "2006017618",
         "2010/01/26 08:07:01.738000000",
         "2010/01/04 08:08:44.081000000",
         "2010/02/25 07:36:25.800000000",
         "2008112114.0",
         "ALUNO DE PÓS-GRADUAÇÃO",
         "195347",
         "Acervo Circulante",
         "Biblioteca Setorial Prof. Rodolfo Helinski - Escola Agrícola de Jundiaí - EAJ  - Macaiba",
         "REGULAR",
         "640",
         "Ciências aplicadas."
        ],
        [
         "3",
         "709687",
         "L184117",
         "2010/01/18 11:07:46.470000000",
         "2010/01/04 08:24:21.284000000",
         "2010/02/03 08:58:45.692000000",
         "200721119.0",
         "ALUNO DE GRADUAÇÃO",
         "131639",
         "Acervo Circulante",
         "Biblioteca Central Zila Mamede",
         "REGULAR",
         "609",
         "Ciências aplicadas."
        ],
        [
         "4",
         "709688",
         "2007027500",
         "2010/01/19 15:59:26.464000000",
         "2010/01/04 08:27:33.569000000",
         "2010/02/03 13:06:30.662000000",
         "2009045971.0",
         "ALUNO DE GRADUAÇÃO",
         "225646",
         "Acervo Circulante",
         "Biblioteca Central Zila Mamede",
         "REGULAR",
         "686",
         "Ciências aplicadas."
        ]
       ],
       "shape": {
        "columns": 13,
        "rows": 5
       }
      },
      "text/html": [
       "<div>\n",
       "<style scoped>\n",
       "    .dataframe tbody tr th:only-of-type {\n",
       "        vertical-align: middle;\n",
       "    }\n",
       "\n",
       "    .dataframe tbody tr th {\n",
       "        vertical-align: top;\n",
       "    }\n",
       "\n",
       "    .dataframe thead th {\n",
       "        text-align: right;\n",
       "    }\n",
       "</style>\n",
       "<table border=\"1\" class=\"dataframe\">\n",
       "  <thead>\n",
       "    <tr style=\"text-align: right;\">\n",
       "      <th></th>\n",
       "      <th>id_emprestimo</th>\n",
       "      <th>codigo_barras</th>\n",
       "      <th>data_renovacao</th>\n",
       "      <th>data_emprestimo</th>\n",
       "      <th>data_devolucao</th>\n",
       "      <th>matricula_ou_siape</th>\n",
       "      <th>tipo_vinculo_usuario</th>\n",
       "      <th>id_exemplar</th>\n",
       "      <th>colecao</th>\n",
       "      <th>biblioteca</th>\n",
       "      <th>status_material</th>\n",
       "      <th>localizacao</th>\n",
       "      <th>CDU</th>\n",
       "    </tr>\n",
       "  </thead>\n",
       "  <tbody>\n",
       "    <tr>\n",
       "      <th>0</th>\n",
       "      <td>709684</td>\n",
       "      <td>L095049</td>\n",
       "      <td>None</td>\n",
       "      <td>2010/01/04 07:44:10.721000000</td>\n",
       "      <td>2010/01/05 16:26:12.662000000</td>\n",
       "      <td>2008023265.0</td>\n",
       "      <td>ALUNO DE GRADUAÇÃO</td>\n",
       "      <td>13259</td>\n",
       "      <td>Acervo Circulante</td>\n",
       "      <td>Biblioteca Central Zila Mamede</td>\n",
       "      <td>REGULAR</td>\n",
       "      <td>630</td>\n",
       "      <td>Ciências aplicadas.</td>\n",
       "    </tr>\n",
       "    <tr>\n",
       "      <th>1</th>\n",
       "      <td>709685</td>\n",
       "      <td>L167050</td>\n",
       "      <td>None</td>\n",
       "      <td>2010/01/04 07:44:10.750000000</td>\n",
       "      <td>2010/01/12 07:34:13.934000000</td>\n",
       "      <td>2008023265.0</td>\n",
       "      <td>ALUNO DE GRADUAÇÃO</td>\n",
       "      <td>70865</td>\n",
       "      <td>Acervo Circulante</td>\n",
       "      <td>Biblioteca Central Zila Mamede</td>\n",
       "      <td>REGULAR</td>\n",
       "      <td>647</td>\n",
       "      <td>Ciências aplicadas.</td>\n",
       "    </tr>\n",
       "    <tr>\n",
       "      <th>2</th>\n",
       "      <td>709686</td>\n",
       "      <td>2006017618</td>\n",
       "      <td>2010/01/26 08:07:01.738000000</td>\n",
       "      <td>2010/01/04 08:08:44.081000000</td>\n",
       "      <td>2010/02/25 07:36:25.800000000</td>\n",
       "      <td>2008112114.0</td>\n",
       "      <td>ALUNO DE PÓS-GRADUAÇÃO</td>\n",
       "      <td>195347</td>\n",
       "      <td>Acervo Circulante</td>\n",
       "      <td>Biblioteca Setorial Prof. Rodolfo Helinski - E...</td>\n",
       "      <td>REGULAR</td>\n",
       "      <td>640</td>\n",
       "      <td>Ciências aplicadas.</td>\n",
       "    </tr>\n",
       "    <tr>\n",
       "      <th>3</th>\n",
       "      <td>709687</td>\n",
       "      <td>L184117</td>\n",
       "      <td>2010/01/18 11:07:46.470000000</td>\n",
       "      <td>2010/01/04 08:24:21.284000000</td>\n",
       "      <td>2010/02/03 08:58:45.692000000</td>\n",
       "      <td>200721119.0</td>\n",
       "      <td>ALUNO DE GRADUAÇÃO</td>\n",
       "      <td>131639</td>\n",
       "      <td>Acervo Circulante</td>\n",
       "      <td>Biblioteca Central Zila Mamede</td>\n",
       "      <td>REGULAR</td>\n",
       "      <td>609</td>\n",
       "      <td>Ciências aplicadas.</td>\n",
       "    </tr>\n",
       "    <tr>\n",
       "      <th>4</th>\n",
       "      <td>709688</td>\n",
       "      <td>2007027500</td>\n",
       "      <td>2010/01/19 15:59:26.464000000</td>\n",
       "      <td>2010/01/04 08:27:33.569000000</td>\n",
       "      <td>2010/02/03 13:06:30.662000000</td>\n",
       "      <td>2009045971.0</td>\n",
       "      <td>ALUNO DE GRADUAÇÃO</td>\n",
       "      <td>225646</td>\n",
       "      <td>Acervo Circulante</td>\n",
       "      <td>Biblioteca Central Zila Mamede</td>\n",
       "      <td>REGULAR</td>\n",
       "      <td>686</td>\n",
       "      <td>Ciências aplicadas.</td>\n",
       "    </tr>\n",
       "  </tbody>\n",
       "</table>\n",
       "</div>"
      ],
      "text/plain": [
       "   id_emprestimo codigo_barras                 data_renovacao  \\\n",
       "0         709684       L095049                           None   \n",
       "1         709685       L167050                           None   \n",
       "2         709686    2006017618  2010/01/26 08:07:01.738000000   \n",
       "3         709687       L184117  2010/01/18 11:07:46.470000000   \n",
       "4         709688    2007027500  2010/01/19 15:59:26.464000000   \n",
       "\n",
       "                 data_emprestimo                 data_devolucao  \\\n",
       "0  2010/01/04 07:44:10.721000000  2010/01/05 16:26:12.662000000   \n",
       "1  2010/01/04 07:44:10.750000000  2010/01/12 07:34:13.934000000   \n",
       "2  2010/01/04 08:08:44.081000000  2010/02/25 07:36:25.800000000   \n",
       "3  2010/01/04 08:24:21.284000000  2010/02/03 08:58:45.692000000   \n",
       "4  2010/01/04 08:27:33.569000000  2010/02/03 13:06:30.662000000   \n",
       "\n",
       "  matricula_ou_siape    tipo_vinculo_usuario  id_exemplar            colecao  \\\n",
       "0       2008023265.0      ALUNO DE GRADUAÇÃO        13259  Acervo Circulante   \n",
       "1       2008023265.0      ALUNO DE GRADUAÇÃO        70865  Acervo Circulante   \n",
       "2       2008112114.0  ALUNO DE PÓS-GRADUAÇÃO       195347  Acervo Circulante   \n",
       "3        200721119.0      ALUNO DE GRADUAÇÃO       131639  Acervo Circulante   \n",
       "4       2009045971.0      ALUNO DE GRADUAÇÃO       225646  Acervo Circulante   \n",
       "\n",
       "                                          biblioteca status_material  \\\n",
       "0                     Biblioteca Central Zila Mamede         REGULAR   \n",
       "1                     Biblioteca Central Zila Mamede         REGULAR   \n",
       "2  Biblioteca Setorial Prof. Rodolfo Helinski - E...         REGULAR   \n",
       "3                     Biblioteca Central Zila Mamede         REGULAR   \n",
       "4                     Biblioteca Central Zila Mamede         REGULAR   \n",
       "\n",
       "   localizacao                  CDU  \n",
       "0          630  Ciências aplicadas.  \n",
       "1          647  Ciências aplicadas.  \n",
       "2          640  Ciências aplicadas.  \n",
       "3          609  Ciências aplicadas.  \n",
       "4          686  Ciências aplicadas.  "
      ]
     },
     "execution_count": 26,
     "metadata": {},
     "output_type": "execute_result"
    }
   ],
   "source": [
    "emprestimo_acervo = pd.read_parquet('emprestimo_acervo/emprestimo_acervo.parquet')\n",
    "emprestimo_acervo.head()"
   ]
  },
  {
   "cell_type": "code",
   "execution_count": 27,
   "id": "03ea5362",
   "metadata": {},
   "outputs": [
    {
     "data": {
      "text/plain": [
       "dtype('<M8[ns]')"
      ]
     },
     "execution_count": 27,
     "metadata": {},
     "output_type": "execute_result"
    }
   ],
   "source": [
    "# Converter a coluna para datetime\n",
    "emprestimo_acervo['data_emprestimo'] = pd.to_datetime(emprestimo_acervo['data_emprestimo'])\n",
    "emprestimo_acervo['data_emprestimo'].dtypes"
   ]
  },
  {
   "cell_type": "code",
   "execution_count": 28,
   "id": "f3df6eb6",
   "metadata": {},
   "outputs": [
    {
     "data": {
      "application/vnd.microsoft.datawrangler.viewer.v0+json": {
       "columns": [
        {
         "name": "index",
         "rawType": "int64",
         "type": "integer"
        },
        {
         "name": "ano",
         "rawType": "int32",
         "type": "integer"
        },
        {
         "name": "quantidade",
         "rawType": "int64",
         "type": "integer"
        }
       ],
       "conversionMethod": "pd.DataFrame",
       "ref": "d8d8db21-3dc2-429b-a079-08ae138bc195",
       "rows": [
        [
         "9",
         "2010",
         "161394"
        ],
        [
         "6",
         "2011",
         "196390"
        ],
        [
         "1",
         "2012",
         "221365"
        ],
        [
         "0",
         "2013",
         "234749"
        ],
        [
         "2",
         "2014",
         "219189"
        ],
        [
         "5",
         "2015",
         "213582"
        ],
        [
         "4",
         "2016",
         "215900"
        ],
        [
         "3",
         "2017",
         "218462"
        ],
        [
         "7",
         "2018",
         "194080"
        ],
        [
         "8",
         "2019",
         "171801"
        ],
        [
         "10",
         "2020",
         "25610"
        ]
       ],
       "shape": {
        "columns": 2,
        "rows": 11
       }
      },
      "text/html": [
       "<div>\n",
       "<style scoped>\n",
       "    .dataframe tbody tr th:only-of-type {\n",
       "        vertical-align: middle;\n",
       "    }\n",
       "\n",
       "    .dataframe tbody tr th {\n",
       "        vertical-align: top;\n",
       "    }\n",
       "\n",
       "    .dataframe thead th {\n",
       "        text-align: right;\n",
       "    }\n",
       "</style>\n",
       "<table border=\"1\" class=\"dataframe\">\n",
       "  <thead>\n",
       "    <tr style=\"text-align: right;\">\n",
       "      <th></th>\n",
       "      <th>ano</th>\n",
       "      <th>quantidade</th>\n",
       "    </tr>\n",
       "  </thead>\n",
       "  <tbody>\n",
       "    <tr>\n",
       "      <th>9</th>\n",
       "      <td>2010</td>\n",
       "      <td>161394</td>\n",
       "    </tr>\n",
       "    <tr>\n",
       "      <th>6</th>\n",
       "      <td>2011</td>\n",
       "      <td>196390</td>\n",
       "    </tr>\n",
       "    <tr>\n",
       "      <th>1</th>\n",
       "      <td>2012</td>\n",
       "      <td>221365</td>\n",
       "    </tr>\n",
       "    <tr>\n",
       "      <th>0</th>\n",
       "      <td>2013</td>\n",
       "      <td>234749</td>\n",
       "    </tr>\n",
       "    <tr>\n",
       "      <th>2</th>\n",
       "      <td>2014</td>\n",
       "      <td>219189</td>\n",
       "    </tr>\n",
       "    <tr>\n",
       "      <th>5</th>\n",
       "      <td>2015</td>\n",
       "      <td>213582</td>\n",
       "    </tr>\n",
       "    <tr>\n",
       "      <th>4</th>\n",
       "      <td>2016</td>\n",
       "      <td>215900</td>\n",
       "    </tr>\n",
       "    <tr>\n",
       "      <th>3</th>\n",
       "      <td>2017</td>\n",
       "      <td>218462</td>\n",
       "    </tr>\n",
       "    <tr>\n",
       "      <th>7</th>\n",
       "      <td>2018</td>\n",
       "      <td>194080</td>\n",
       "    </tr>\n",
       "    <tr>\n",
       "      <th>8</th>\n",
       "      <td>2019</td>\n",
       "      <td>171801</td>\n",
       "    </tr>\n",
       "    <tr>\n",
       "      <th>10</th>\n",
       "      <td>2020</td>\n",
       "      <td>25610</td>\n",
       "    </tr>\n",
       "  </tbody>\n",
       "</table>\n",
       "</div>"
      ],
      "text/plain": [
       "     ano  quantidade\n",
       "9   2010      161394\n",
       "6   2011      196390\n",
       "1   2012      221365\n",
       "0   2013      234749\n",
       "2   2014      219189\n",
       "5   2015      213582\n",
       "4   2016      215900\n",
       "3   2017      218462\n",
       "7   2018      194080\n",
       "8   2019      171801\n",
       "10  2020       25610"
      ]
     },
     "execution_count": 28,
     "metadata": {},
     "output_type": "execute_result"
    }
   ],
   "source": [
    "# Contar exemplares agrupando diretamente por ano extraído de 'data_emprestimo'\n",
    "total_por_ano = (\n",
    "    emprestimo_acervo['data_emprestimo'].dt.year # Extrai o ano\n",
    "    .value_counts() # Conta a frequência de cada ano\n",
    "    .rename_axis('ano') # Nomeia o índice como 'ano'\n",
    "    .reset_index(name = 'quantidade') # Transforma em DataFrame e renomeia a coluna\n",
    "    .sort_values('ano') # Ordena pelos anos\n",
    ")\n",
    "\n",
    "total_por_ano"
   ]
  },
  {
   "cell_type": "code",
   "execution_count": 29,
   "id": "8253a37d",
   "metadata": {},
   "outputs": [
    {
     "data": {
      "image/png": "[encoded data removed]",
      "text/plain": [
       "<Figure size 640x480 with 1 Axes>"
      ]
     },
     "metadata": {},
     "output_type": "display_data"
    }
   ],
   "source": [
    "plt.plot(total_por_ano['ano'], total_por_ano['quantidade'], marker = 'o')\n",
    "plt.xlabel('Ano')\n",
    "plt.ylabel('Exemplares')\n",
    "plt.title('Quantidade de exemplares emprestados por ano')\n",
    "plt.show()\n",
    "\n",
    "# O gráfico nos mostra que nos primeiros 4 anos, altas consecutivas de exemplares emprestados,\n",
    "# sendo 2013 o ano com mais exemplares emprestados.\n",
    "# Após isso, os 4 anos seguintes foram de uma leve queda, mas de estabilização dos empréstimos.\n",
    "# Contudo a partir de 2018 houve uma significativa queda nas quantidades, continuando pelo ano seguinte.\n",
    "# 2020 não se tem uma base, pois são apenas valores do primeiro semestre, mas provavelmente a queda contínua deve permanecer.\n",
    "\n",
    "# O que pode ter impactado essa queda? Pouco apelo dos leitores? Novas opções para leitura, como Kindle? Queda do interesse do público geral?\n",
    "# O acervo das bibliotecas está se mantendo atualizado? Como estão as estratégias de marketing? Qual o nível de satisfação dos consumidores?"
   ]
  },
  {
   "cell_type": "code",
   "execution_count": 30,
   "id": "a36b162f",
   "metadata": {},
   "outputs": [
    {
     "data": {
      "application/vnd.microsoft.datawrangler.viewer.v0+json": {
       "columns": [
        {
         "name": "index",
         "rawType": "int64",
         "type": "integer"
        },
        {
         "name": "mes",
         "rawType": "int32",
         "type": "integer"
        },
        {
         "name": "quantidade",
         "rawType": "int64",
         "type": "integer"
        }
       ],
       "conversionMethod": "pd.DataFrame",
       "ref": "d8187b2f-b08f-44a9-b60a-22dfb644f5d7",
       "rows": [
        [
         "11",
         "1",
         "67514"
        ],
        [
         "2",
         "2",
         "210200"
        ],
        [
         "0",
         "3",
         "252185"
        ],
        [
         "3",
         "4",
         "208725"
        ],
        [
         "5",
         "5",
         "202530"
        ],
        [
         "8",
         "6",
         "138123"
        ],
        [
         "9",
         "7",
         "123790"
        ],
        [
         "1",
         "8",
         "232793"
        ],
        [
         "4",
         "9",
         "208234"
        ],
        [
         "6",
         "10",
         "188410"
        ],
        [
         "7",
         "11",
         "164222"
        ],
        [
         "10",
         "12",
         "75796"
        ]
       ],
       "shape": {
        "columns": 2,
        "rows": 12
       }
      },
      "text/html": [
       "<div>\n",
       "<style scoped>\n",
       "    .dataframe tbody tr th:only-of-type {\n",
       "        vertical-align: middle;\n",
       "    }\n",
       "\n",
       "    .dataframe tbody tr th {\n",
       "        vertical-align: top;\n",
       "    }\n",
       "\n",
       "    .dataframe thead th {\n",
       "        text-align: right;\n",
       "    }\n",
       "</style>\n",
       "<table border=\"1\" class=\"dataframe\">\n",
       "  <thead>\n",
       "    <tr style=\"text-align: right;\">\n",
       "      <th></th>\n",
       "      <th>mes</th>\n",
       "      <th>quantidade</th>\n",
       "    </tr>\n",
       "  </thead>\n",
       "  <tbody>\n",
       "    <tr>\n",
       "      <th>11</th>\n",
       "      <td>1</td>\n",
       "      <td>67514</td>\n",
       "    </tr>\n",
       "    <tr>\n",
       "      <th>2</th>\n",
       "      <td>2</td>\n",
       "      <td>210200</td>\n",
       "    </tr>\n",
       "    <tr>\n",
       "      <th>0</th>\n",
       "      <td>3</td>\n",
       "      <td>252185</td>\n",
       "    </tr>\n",
       "    <tr>\n",
       "      <th>3</th>\n",
       "      <td>4</td>\n",
       "      <td>208725</td>\n",
       "    </tr>\n",
       "    <tr>\n",
       "      <th>5</th>\n",
       "      <td>5</td>\n",
       "      <td>202530</td>\n",
       "    </tr>\n",
       "    <tr>\n",
       "      <th>8</th>\n",
       "      <td>6</td>\n",
       "      <td>138123</td>\n",
       "    </tr>\n",
       "    <tr>\n",
       "      <th>9</th>\n",
       "      <td>7</td>\n",
       "      <td>123790</td>\n",
       "    </tr>\n",
       "    <tr>\n",
       "      <th>1</th>\n",
       "      <td>8</td>\n",
       "      <td>232793</td>\n",
       "    </tr>\n",
       "    <tr>\n",
       "      <th>4</th>\n",
       "      <td>9</td>\n",
       "      <td>208234</td>\n",
       "    </tr>\n",
       "    <tr>\n",
       "      <th>6</th>\n",
       "      <td>10</td>\n",
       "      <td>188410</td>\n",
       "    </tr>\n",
       "    <tr>\n",
       "      <th>7</th>\n",
       "      <td>11</td>\n",
       "      <td>164222</td>\n",
       "    </tr>\n",
       "    <tr>\n",
       "      <th>10</th>\n",
       "      <td>12</td>\n",
       "      <td>75796</td>\n",
       "    </tr>\n",
       "  </tbody>\n",
       "</table>\n",
       "</div>"
      ],
      "text/plain": [
       "    mes  quantidade\n",
       "11    1       67514\n",
       "2     2      210200\n",
       "0     3      252185\n",
       "3     4      208725\n",
       "5     5      202530\n",
       "8     6      138123\n",
       "9     7      123790\n",
       "1     8      232793\n",
       "4     9      208234\n",
       "6    10      188410\n",
       "7    11      164222\n",
       "10   12       75796"
      ]
     },
     "execution_count": 30,
     "metadata": {},
     "output_type": "execute_result"
    }
   ],
   "source": [
    "total_por_mes = (\n",
    "    emprestimo_acervo['data_emprestimo'].dt.month\n",
    "    .value_counts()\n",
    "    .rename_axis('mes')\n",
    "    .reset_index(name = 'quantidade')\n",
    "    .sort_values('mes')\n",
    ")\n",
    "\n",
    "total_por_mes"
   ]
  },
  {
   "cell_type": "code",
   "execution_count": 31,
   "id": "da8250be",
   "metadata": {},
   "outputs": [
    {
     "data": {
      "image/png": "[encoded data removed]",
      "text/plain": [
       "<Figure size 640x480 with 1 Axes>"
      ]
     },
     "metadata": {},
     "output_type": "display_data"
    }
   ],
   "source": [
    "plt.plot(total_por_mes['mes'], total_por_mes['quantidade'], marker = 'o')\n",
    "plt.xlabel('Mês')\n",
    "plt.ylabel('Exemplares')\n",
    "plt.title('Quantidade de exemplares emprestados por mês')\n",
    "plt.show()\n",
    "\n",
    "# Os melhores meses para as férias dos funcionários são janeiro e dezembro, com um valor consideravelmente menor em comparação com outros.\n",
    "# Com a devida queda do quadro de funcionários, dois meses podem ser bons para outras atividades além do atendimento ao público\n",
    "# são junho e julho, com novembro podendo ser uma alternativa a mais.\n",
    "# A suspeita de meses com maior volume de empréstimos foi quase acertada, visto que sim, março é o com maior número, mas o outro mês é agosto\n",
    "# e não setembro como a suspeita dizia.\n",
    "# Uma boa oportunidade para empréstimo pode ser em junho e julho, com promoções, ativações para as férias de meio de ano."
   ]
  },
  {
   "cell_type": "code",
   "execution_count": 32,
   "id": "35282e1c",
   "metadata": {},
   "outputs": [
    {
     "data": {
      "application/vnd.microsoft.datawrangler.viewer.v0+json": {
       "columns": [
        {
         "name": "index",
         "rawType": "int64",
         "type": "integer"
        },
        {
         "name": "hora",
         "rawType": "int32",
         "type": "integer"
        },
        {
         "name": "quantidade",
         "rawType": "int64",
         "type": "integer"
        }
       ],
       "conversionMethod": "pd.DataFrame",
       "ref": "fedae60f-97b5-4c7b-8729-8728841bc2d7",
       "rows": [
        [
         "17",
         "0",
         "17"
        ],
        [
         "18",
         "6",
         "14"
        ],
        [
         "14",
         "7",
         "18777"
        ],
        [
         "11",
         "8",
         "103416"
        ],
        [
         "8",
         "9",
         "131273"
        ],
        [
         "1",
         "10",
         "185839"
        ],
        [
         "4",
         "11",
         "180048"
        ],
        [
         "7",
         "12",
         "148754"
        ],
        [
         "10",
         "13",
         "126987"
        ],
        [
         "6",
         "14",
         "150876"
        ],
        [
         "5",
         "15",
         "166672"
        ],
        [
         "0",
         "16",
         "210655"
        ],
        [
         "2",
         "17",
         "185340"
        ],
        [
         "3",
         "18",
         "182520"
        ],
        [
         "12",
         "19",
         "102129"
        ],
        [
         "9",
         "20",
         "127716"
        ],
        [
         "13",
         "21",
         "51191"
        ],
        [
         "15",
         "22",
         "247"
        ],
        [
         "16",
         "23",
         "51"
        ]
       ],
       "shape": {
        "columns": 2,
        "rows": 19
       }
      },
      "text/html": [
       "<div>\n",
       "<style scoped>\n",
       "    .dataframe tbody tr th:only-of-type {\n",
       "        vertical-align: middle;\n",
       "    }\n",
       "\n",
       "    .dataframe tbody tr th {\n",
       "        vertical-align: top;\n",
       "    }\n",
       "\n",
       "    .dataframe thead th {\n",
       "        text-align: right;\n",
       "    }\n",
       "</style>\n",
       "<table border=\"1\" class=\"dataframe\">\n",
       "  <thead>\n",
       "    <tr style=\"text-align: right;\">\n",
       "      <th></th>\n",
       "      <th>hora</th>\n",
       "      <th>quantidade</th>\n",
       "    </tr>\n",
       "  </thead>\n",
       "  <tbody>\n",
       "    <tr>\n",
       "      <th>17</th>\n",
       "      <td>0</td>\n",
       "      <td>17</td>\n",
       "    </tr>\n",
       "    <tr>\n",
       "      <th>18</th>\n",
       "      <td>6</td>\n",
       "      <td>14</td>\n",
       "    </tr>\n",
       "    <tr>\n",
       "      <th>14</th>\n",
       "      <td>7</td>\n",
       "      <td>18777</td>\n",
       "    </tr>\n",
       "    <tr>\n",
       "      <th>11</th>\n",
       "      <td>8</td>\n",
       "      <td>103416</td>\n",
       "    </tr>\n",
       "    <tr>\n",
       "      <th>8</th>\n",
       "      <td>9</td>\n",
       "      <td>131273</td>\n",
       "    </tr>\n",
       "    <tr>\n",
       "      <th>1</th>\n",
       "      <td>10</td>\n",
       "      <td>185839</td>\n",
       "    </tr>\n",
       "    <tr>\n",
       "      <th>4</th>\n",
       "      <td>11</td>\n",
       "      <td>180048</td>\n",
       "    </tr>\n",
       "    <tr>\n",
       "      <th>7</th>\n",
       "      <td>12</td>\n",
       "      <td>148754</td>\n",
       "    </tr>\n",
       "    <tr>\n",
       "      <th>10</th>\n",
       "      <td>13</td>\n",
       "      <td>126987</td>\n",
       "    </tr>\n",
       "    <tr>\n",
       "      <th>6</th>\n",
       "      <td>14</td>\n",
       "      <td>150876</td>\n",
       "    </tr>\n",
       "    <tr>\n",
       "      <th>5</th>\n",
       "      <td>15</td>\n",
       "      <td>166672</td>\n",
       "    </tr>\n",
       "    <tr>\n",
       "      <th>0</th>\n",
       "      <td>16</td>\n",
       "      <td>210655</td>\n",
       "    </tr>\n",
       "    <tr>\n",
       "      <th>2</th>\n",
       "      <td>17</td>\n",
       "      <td>185340</td>\n",
       "    </tr>\n",
       "    <tr>\n",
       "      <th>3</th>\n",
       "      <td>18</td>\n",
       "      <td>182520</td>\n",
       "    </tr>\n",
       "    <tr>\n",
       "      <th>12</th>\n",
       "      <td>19</td>\n",
       "      <td>102129</td>\n",
       "    </tr>\n",
       "    <tr>\n",
       "      <th>9</th>\n",
       "      <td>20</td>\n",
       "      <td>127716</td>\n",
       "    </tr>\n",
       "    <tr>\n",
       "      <th>13</th>\n",
       "      <td>21</td>\n",
       "      <td>51191</td>\n",
       "    </tr>\n",
       "    <tr>\n",
       "      <th>15</th>\n",
       "      <td>22</td>\n",
       "      <td>247</td>\n",
       "    </tr>\n",
       "    <tr>\n",
       "      <th>16</th>\n",
       "      <td>23</td>\n",
       "      <td>51</td>\n",
       "    </tr>\n",
       "  </tbody>\n",
       "</table>\n",
       "</div>"
      ],
      "text/plain": [
       "    hora  quantidade\n",
       "17     0          17\n",
       "18     6          14\n",
       "14     7       18777\n",
       "11     8      103416\n",
       "8      9      131273\n",
       "1     10      185839\n",
       "4     11      180048\n",
       "7     12      148754\n",
       "10    13      126987\n",
       "6     14      150876\n",
       "5     15      166672\n",
       "0     16      210655\n",
       "2     17      185340\n",
       "3     18      182520\n",
       "12    19      102129\n",
       "9     20      127716\n",
       "13    21       51191\n",
       "15    22         247\n",
       "16    23          51"
      ]
     },
     "execution_count": 32,
     "metadata": {},
     "output_type": "execute_result"
    }
   ],
   "source": [
    "total_por_hora = (\n",
    "    emprestimo_acervo['data_emprestimo'].dt.hour\n",
    "    .value_counts()\n",
    "    .rename_axis('hora')\n",
    "    .reset_index(name = 'quantidade')\n",
    "    .sort_values('hora')\n",
    ")\n",
    "\n",
    "total_por_hora"
   ]
  },
  {
   "cell_type": "code",
   "execution_count": 33,
   "id": "6c1cd0eb",
   "metadata": {},
   "outputs": [
    {
     "data": {
      "image/png": "[encoded data removed]",
      "text/plain": [
       "<Figure size 640x480 with 1 Axes>"
      ]
     },
     "metadata": {},
     "output_type": "display_data"
    }
   ],
   "source": [
    "sns.barplot(data = total_por_hora, x = 'hora', y = 'quantidade', hue='quantidade', legend=False)\n",
    "plt.title('Quantidade de exemplares emprestados por hora')\n",
    "plt.xlabel('Horário')\n",
    "plt.ylabel('Exemplares')\n",
    "plt.show()\n",
    "\n",
    "# Os horários com maior atendimento são de 10h até 18h\n",
    "# Os melhores horários para alocar demais atividades são das 7h-9h e das 19h-21h, especialmente às 7h e 21h, tendo um volume bem baixo."
   ]
  }
 ],
 "metadata": {
  "kernelspec": {
   "display_name": "Python 3",
   "language": "python",
   "name": "python3"
  },
  "language_info": {
   "codemirror_mode": {
    "name": "ipython",
    "version": 3
   },
   "file_extension": ".py",
   "mimetype": "text/x-python",
   "name": "python",
   "nbconvert_exporter": "python",
   "pygments_lexer": "ipython3",
   "version": "3.11.9"
  }
 },
 "nbformat": 4,
 "nbformat_minor": 5
}

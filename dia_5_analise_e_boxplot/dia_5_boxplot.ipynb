{
 "cells": [
  {
   "cell_type": "code",
   "execution_count": 125,
   "id": "6b3390d5",
   "metadata": {},
   "outputs": [],
   "source": [
    "import pandas as pd\n",
    "import matplotlib.pyplot as plt\n",
    "import seaborn as sns"
   ]
  },
  {
   "cell_type": "code",
   "execution_count": 126,
   "id": "245ad532",
   "metadata": {},
   "outputs": [
    {
     "data": {
      "application/vnd.microsoft.datawrangler.viewer.v0+json": {
       "columns": [
        {
         "name": "index",
         "rawType": "int64",
         "type": "integer"
        },
        {
         "name": "id_emprestimo",
         "rawType": "int64",
         "type": "integer"
        },
        {
         "name": "codigo_barras",
         "rawType": "object",
         "type": "string"
        },
        {
         "name": "data_renovacao",
         "rawType": "object",
         "type": "unknown"
        },
        {
         "name": "data_emprestimo",
         "rawType": "object",
         "type": "string"
        },
        {
         "name": "data_devolucao",
         "rawType": "object",
         "type": "string"
        },
        {
         "name": "matricula_ou_siape",
         "rawType": "string",
         "type": "string"
        },
        {
         "name": "tipo_vinculo_usuario",
         "rawType": "object",
         "type": "string"
        },
        {
         "name": "id_exemplar",
         "rawType": "int64",
         "type": "integer"
        },
        {
         "name": "colecao",
         "rawType": "object",
         "type": "string"
        },
        {
         "name": "biblioteca",
         "rawType": "object",
         "type": "string"
        },
        {
         "name": "status_material",
         "rawType": "object",
         "type": "string"
        },
        {
         "name": "localizacao",
         "rawType": "int64",
         "type": "integer"
        },
        {
         "name": "CDU",
         "rawType": "object",
         "type": "string"
        }
       ],
       "conversionMethod": "pd.DataFrame",
       "ref": "c2b204de-386d-46b7-937b-bc7af33fdff6",
       "rows": [
        [
         "0",
         "709684",
         "L095049",
         null,
         "2010/01/04 07:44:10.721000000",
         "2010/01/05 16:26:12.662000000",
         "2008023265.0",
         "ALUNO DE GRADUAÇÃO",
         "13259",
         "Acervo Circulante",
         "Biblioteca Central Zila Mamede",
         "REGULAR",
         "630",
         "Ciências aplicadas."
        ],
        [
         "1",
         "709685",
         "L167050",
         null,
         "2010/01/04 07:44:10.750000000",
         "2010/01/12 07:34:13.934000000",
         "2008023265.0",
         "ALUNO DE GRADUAÇÃO",
         "70865",
         "Acervo Circulante",
         "Biblioteca Central Zila Mamede",
         "REGULAR",
         "647",
         "Ciências aplicadas."
        ],
        [
         "2",
         "709686",
         "2006017618",
         "2010/01/26 08:07:01.738000000",
         "2010/01/04 08:08:44.081000000",
         "2010/02/25 07:36:25.800000000",
         "2008112114.0",
         "ALUNO DE PÓS-GRADUAÇÃO",
         "195347",
         "Acervo Circulante",
         "Biblioteca Setorial Prof. Rodolfo Helinski - Escola Agrícola de Jundiaí - EAJ  - Macaiba",
         "REGULAR",
         "640",
         "Ciências aplicadas."
        ],
        [
         "3",
         "709687",
         "L184117",
         "2010/01/18 11:07:46.470000000",
         "2010/01/04 08:24:21.284000000",
         "2010/02/03 08:58:45.692000000",
         "200721119.0",
         "ALUNO DE GRADUAÇÃO",
         "131639",
         "Acervo Circulante",
         "Biblioteca Central Zila Mamede",
         "REGULAR",
         "609",
         "Ciências aplicadas."
        ],
        [
         "4",
         "709688",
         "2007027500",
         "2010/01/19 15:59:26.464000000",
         "2010/01/04 08:27:33.569000000",
         "2010/02/03 13:06:30.662000000",
         "2009045971.0",
         "ALUNO DE GRADUAÇÃO",
         "225646",
         "Acervo Circulante",
         "Biblioteca Central Zila Mamede",
         "REGULAR",
         "686",
         "Ciências aplicadas."
        ]
       ],
       "shape": {
        "columns": 13,
        "rows": 5
       }
      },
      "text/html": [
       "<div>\n",
       "<style scoped>\n",
       "    .dataframe tbody tr th:only-of-type {\n",
       "        vertical-align: middle;\n",
       "    }\n",
       "\n",
       "    .dataframe tbody tr th {\n",
       "        vertical-align: top;\n",
       "    }\n",
       "\n",
       "    .dataframe thead th {\n",
       "        text-align: right;\n",
       "    }\n",
       "</style>\n",
       "<table border=\"1\" class=\"dataframe\">\n",
       "  <thead>\n",
       "    <tr style=\"text-align: right;\">\n",
       "      <th></th>\n",
       "      <th>id_emprestimo</th>\n",
       "      <th>codigo_barras</th>\n",
       "      <th>data_renovacao</th>\n",
       "      <th>data_emprestimo</th>\n",
       "      <th>data_devolucao</th>\n",
       "      <th>matricula_ou_siape</th>\n",
       "      <th>tipo_vinculo_usuario</th>\n",
       "      <th>id_exemplar</th>\n",
       "      <th>colecao</th>\n",
       "      <th>biblioteca</th>\n",
       "      <th>status_material</th>\n",
       "      <th>localizacao</th>\n",
       "      <th>CDU</th>\n",
       "    </tr>\n",
       "  </thead>\n",
       "  <tbody>\n",
       "    <tr>\n",
       "      <th>0</th>\n",
       "      <td>709684</td>\n",
       "      <td>L095049</td>\n",
       "      <td>None</td>\n",
       "      <td>2010/01/04 07:44:10.721000000</td>\n",
       "      <td>2010/01/05 16:26:12.662000000</td>\n",
       "      <td>2008023265.0</td>\n",
       "      <td>ALUNO DE GRADUAÇÃO</td>\n",
       "      <td>13259</td>\n",
       "      <td>Acervo Circulante</td>\n",
       "      <td>Biblioteca Central Zila Mamede</td>\n",
       "      <td>REGULAR</td>\n",
       "      <td>630</td>\n",
       "      <td>Ciências aplicadas.</td>\n",
       "    </tr>\n",
       "    <tr>\n",
       "      <th>1</th>\n",
       "      <td>709685</td>\n",
       "      <td>L167050</td>\n",
       "      <td>None</td>\n",
       "      <td>2010/01/04 07:44:10.750000000</td>\n",
       "      <td>2010/01/12 07:34:13.934000000</td>\n",
       "      <td>2008023265.0</td>\n",
       "      <td>ALUNO DE GRADUAÇÃO</td>\n",
       "      <td>70865</td>\n",
       "      <td>Acervo Circulante</td>\n",
       "      <td>Biblioteca Central Zila Mamede</td>\n",
       "      <td>REGULAR</td>\n",
       "      <td>647</td>\n",
       "      <td>Ciências aplicadas.</td>\n",
       "    </tr>\n",
       "    <tr>\n",
       "      <th>2</th>\n",
       "      <td>709686</td>\n",
       "      <td>2006017618</td>\n",
       "      <td>2010/01/26 08:07:01.738000000</td>\n",
       "      <td>2010/01/04 08:08:44.081000000</td>\n",
       "      <td>2010/02/25 07:36:25.800000000</td>\n",
       "      <td>2008112114.0</td>\n",
       "      <td>ALUNO DE PÓS-GRADUAÇÃO</td>\n",
       "      <td>195347</td>\n",
       "      <td>Acervo Circulante</td>\n",
       "      <td>Biblioteca Setorial Prof. Rodolfo Helinski - E...</td>\n",
       "      <td>REGULAR</td>\n",
       "      <td>640</td>\n",
       "      <td>Ciências aplicadas.</td>\n",
       "    </tr>\n",
       "    <tr>\n",
       "      <th>3</th>\n",
       "      <td>709687</td>\n",
       "      <td>L184117</td>\n",
       "      <td>2010/01/18 11:07:46.470000000</td>\n",
       "      <td>2010/01/04 08:24:21.284000000</td>\n",
       "      <td>2010/02/03 08:58:45.692000000</td>\n",
       "      <td>200721119.0</td>\n",
       "      <td>ALUNO DE GRADUAÇÃO</td>\n",
       "      <td>131639</td>\n",
       "      <td>Acervo Circulante</td>\n",
       "      <td>Biblioteca Central Zila Mamede</td>\n",
       "      <td>REGULAR</td>\n",
       "      <td>609</td>\n",
       "      <td>Ciências aplicadas.</td>\n",
       "    </tr>\n",
       "    <tr>\n",
       "      <th>4</th>\n",
       "      <td>709688</td>\n",
       "      <td>2007027500</td>\n",
       "      <td>2010/01/19 15:59:26.464000000</td>\n",
       "      <td>2010/01/04 08:27:33.569000000</td>\n",
       "      <td>2010/02/03 13:06:30.662000000</td>\n",
       "      <td>2009045971.0</td>\n",
       "      <td>ALUNO DE GRADUAÇÃO</td>\n",
       "      <td>225646</td>\n",
       "      <td>Acervo Circulante</td>\n",
       "      <td>Biblioteca Central Zila Mamede</td>\n",
       "      <td>REGULAR</td>\n",
       "      <td>686</td>\n",
       "      <td>Ciências aplicadas.</td>\n",
       "    </tr>\n",
       "  </tbody>\n",
       "</table>\n",
       "</div>"
      ],
      "text/plain": [
       "   id_emprestimo codigo_barras                 data_renovacao  \\\n",
       "0         709684       L095049                           None   \n",
       "1         709685       L167050                           None   \n",
       "2         709686    2006017618  2010/01/26 08:07:01.738000000   \n",
       "3         709687       L184117  2010/01/18 11:07:46.470000000   \n",
       "4         709688    2007027500  2010/01/19 15:59:26.464000000   \n",
       "\n",
       "                 data_emprestimo                 data_devolucao  \\\n",
       "0  2010/01/04 07:44:10.721000000  2010/01/05 16:26:12.662000000   \n",
       "1  2010/01/04 07:44:10.750000000  2010/01/12 07:34:13.934000000   \n",
       "2  2010/01/04 08:08:44.081000000  2010/02/25 07:36:25.800000000   \n",
       "3  2010/01/04 08:24:21.284000000  2010/02/03 08:58:45.692000000   \n",
       "4  2010/01/04 08:27:33.569000000  2010/02/03 13:06:30.662000000   \n",
       "\n",
       "  matricula_ou_siape    tipo_vinculo_usuario  id_exemplar            colecao  \\\n",
       "0       2008023265.0      ALUNO DE GRADUAÇÃO        13259  Acervo Circulante   \n",
       "1       2008023265.0      ALUNO DE GRADUAÇÃO        70865  Acervo Circulante   \n",
       "2       2008112114.0  ALUNO DE PÓS-GRADUAÇÃO       195347  Acervo Circulante   \n",
       "3        200721119.0      ALUNO DE GRADUAÇÃO       131639  Acervo Circulante   \n",
       "4       2009045971.0      ALUNO DE GRADUAÇÃO       225646  Acervo Circulante   \n",
       "\n",
       "                                          biblioteca status_material  \\\n",
       "0                     Biblioteca Central Zila Mamede         REGULAR   \n",
       "1                     Biblioteca Central Zila Mamede         REGULAR   \n",
       "2  Biblioteca Setorial Prof. Rodolfo Helinski - E...         REGULAR   \n",
       "3                     Biblioteca Central Zila Mamede         REGULAR   \n",
       "4                     Biblioteca Central Zila Mamede         REGULAR   \n",
       "\n",
       "   localizacao                  CDU  \n",
       "0          630  Ciências aplicadas.  \n",
       "1          647  Ciências aplicadas.  \n",
       "2          640  Ciências aplicadas.  \n",
       "3          609  Ciências aplicadas.  \n",
       "4          686  Ciências aplicadas.  "
      ]
     },
     "execution_count": 126,
     "metadata": {},
     "output_type": "execute_result"
    }
   ],
   "source": [
    "emprestimo_acervo = pd.read_parquet('../dia_3_analise_e_date_time/emprestimo_acervo/emprestimo_acervo.parquet')\n",
    "emprestimo_acervo.head()"
   ]
  },
  {
   "cell_type": "code",
   "execution_count": 127,
   "id": "92bab25c",
   "metadata": {},
   "outputs": [
    {
     "data": {
      "application/vnd.microsoft.datawrangler.viewer.v0+json": {
       "columns": [
        {
         "name": "colecao",
         "rawType": "object",
         "type": "string"
        },
        {
         "name": "contagem",
         "rawType": "int64",
         "type": "integer"
        },
        {
         "name": "porcentagem",
         "rawType": "float64",
         "type": "float"
        }
       ],
       "conversionMethod": "pd.DataFrame",
       "ref": "7599a267-e0fa-4aca-a9ab-3a585c7bb87e",
       "rows": [
        [
         "Acervo Circulante",
         "1600155",
         "99.25"
        ],
        [
         "Multimeios",
         "4652",
         "0.29"
        ],
        [
         "Monografias",
         "3572",
         "0.22"
        ],
        [
         "Dissertações",
         "1152",
         "0.07"
        ],
        [
         "Obras de Referência",
         "1047",
         "0.06"
        ],
        [
         "Publicações de Autores do RN",
         "595",
         "0.04"
        ],
        [
         "Publicações da UFRN",
         "466",
         "0.03"
        ],
        [
         "Teses",
         "245",
         "0.02"
        ],
        [
         "Folhetos",
         "180",
         "0.01"
        ],
        [
         "Trabalho Acadêmico",
         "81",
         "0.01"
        ],
        [
         "Necessidades Educacionais Específicas",
         "73",
         "0.0"
        ],
        [
         "Eventos",
         "57",
         "0.0"
        ],
        [
         "Coleção Mossoroense",
         "17",
         "0.0"
        ],
        [
         "Coleção Zila Mamede",
         "15",
         "0.0"
        ],
        [
         "Literatura de Cordel",
         "11",
         "0.0"
        ],
        [
         "Obras Raras",
         "6",
         "0.0"
        ]
       ],
       "shape": {
        "columns": 2,
        "rows": 16
       }
      },
      "text/html": [
       "<div>\n",
       "<style scoped>\n",
       "    .dataframe tbody tr th:only-of-type {\n",
       "        vertical-align: middle;\n",
       "    }\n",
       "\n",
       "    .dataframe tbody tr th {\n",
       "        vertical-align: top;\n",
       "    }\n",
       "\n",
       "    .dataframe thead th {\n",
       "        text-align: right;\n",
       "    }\n",
       "</style>\n",
       "<table border=\"1\" class=\"dataframe\">\n",
       "  <thead>\n",
       "    <tr style=\"text-align: right;\">\n",
       "      <th></th>\n",
       "      <th>contagem</th>\n",
       "      <th>porcentagem</th>\n",
       "    </tr>\n",
       "    <tr>\n",
       "      <th>colecao</th>\n",
       "      <th></th>\n",
       "      <th></th>\n",
       "    </tr>\n",
       "  </thead>\n",
       "  <tbody>\n",
       "    <tr>\n",
       "      <th>Acervo Circulante</th>\n",
       "      <td>1600155</td>\n",
       "      <td>99.25</td>\n",
       "    </tr>\n",
       "    <tr>\n",
       "      <th>Multimeios</th>\n",
       "      <td>4652</td>\n",
       "      <td>0.29</td>\n",
       "    </tr>\n",
       "    <tr>\n",
       "      <th>Monografias</th>\n",
       "      <td>3572</td>\n",
       "      <td>0.22</td>\n",
       "    </tr>\n",
       "    <tr>\n",
       "      <th>Dissertações</th>\n",
       "      <td>1152</td>\n",
       "      <td>0.07</td>\n",
       "    </tr>\n",
       "    <tr>\n",
       "      <th>Obras de Referência</th>\n",
       "      <td>1047</td>\n",
       "      <td>0.06</td>\n",
       "    </tr>\n",
       "    <tr>\n",
       "      <th>Publicações de Autores do RN</th>\n",
       "      <td>595</td>\n",
       "      <td>0.04</td>\n",
       "    </tr>\n",
       "    <tr>\n",
       "      <th>Publicações da UFRN</th>\n",
       "      <td>466</td>\n",
       "      <td>0.03</td>\n",
       "    </tr>\n",
       "    <tr>\n",
       "      <th>Teses</th>\n",
       "      <td>245</td>\n",
       "      <td>0.02</td>\n",
       "    </tr>\n",
       "    <tr>\n",
       "      <th>Folhetos</th>\n",
       "      <td>180</td>\n",
       "      <td>0.01</td>\n",
       "    </tr>\n",
       "    <tr>\n",
       "      <th>Trabalho Acadêmico</th>\n",
       "      <td>81</td>\n",
       "      <td>0.01</td>\n",
       "    </tr>\n",
       "    <tr>\n",
       "      <th>Necessidades Educacionais Específicas</th>\n",
       "      <td>73</td>\n",
       "      <td>0.00</td>\n",
       "    </tr>\n",
       "    <tr>\n",
       "      <th>Eventos</th>\n",
       "      <td>57</td>\n",
       "      <td>0.00</td>\n",
       "    </tr>\n",
       "    <tr>\n",
       "      <th>Coleção Mossoroense</th>\n",
       "      <td>17</td>\n",
       "      <td>0.00</td>\n",
       "    </tr>\n",
       "    <tr>\n",
       "      <th>Coleção Zila Mamede</th>\n",
       "      <td>15</td>\n",
       "      <td>0.00</td>\n",
       "    </tr>\n",
       "    <tr>\n",
       "      <th>Literatura de Cordel</th>\n",
       "      <td>11</td>\n",
       "      <td>0.00</td>\n",
       "    </tr>\n",
       "    <tr>\n",
       "      <th>Obras Raras</th>\n",
       "      <td>6</td>\n",
       "      <td>0.00</td>\n",
       "    </tr>\n",
       "  </tbody>\n",
       "</table>\n",
       "</div>"
      ],
      "text/plain": [
       "                                       contagem  porcentagem\n",
       "colecao                                                     \n",
       "Acervo Circulante                       1600155        99.25\n",
       "Multimeios                                 4652         0.29\n",
       "Monografias                                3572         0.22\n",
       "Dissertações                               1152         0.07\n",
       "Obras de Referência                        1047         0.06\n",
       "Publicações de Autores do RN                595         0.04\n",
       "Publicações da UFRN                         466         0.03\n",
       "Teses                                       245         0.02\n",
       "Folhetos                                    180         0.01\n",
       "Trabalho Acadêmico                           81         0.01\n",
       "Necessidades Educacionais Específicas        73         0.00\n",
       "Eventos                                      57         0.00\n",
       "Coleção Mossoroense                          17         0.00\n",
       "Coleção Zila Mamede                          15         0.00\n",
       "Literatura de Cordel                         11         0.00\n",
       "Obras Raras                                   6         0.00"
      ]
     },
     "execution_count": 127,
     "metadata": {},
     "output_type": "execute_result"
    }
   ],
   "source": [
    "# Alunos de graduação\n",
    "dados_filtrados = emprestimo_acervo.query(\"tipo_vinculo_usuario == 'ALUNO DE GRADUAÇÃO'\")\n",
    "contagem = dados_filtrados['colecao'].value_counts()\n",
    "porcentagem = (contagem / contagem.sum()) * 100\n",
    "\n",
    "colecao_graduacao = pd.DataFrame({\n",
    "    'contagem': contagem,\n",
    "    'porcentagem': porcentagem.round(2)\n",
    "})\n",
    "\n",
    "colecao_graduacao"
   ]
  },
  {
   "cell_type": "code",
   "execution_count": 128,
   "id": "f21f38d7",
   "metadata": {},
   "outputs": [
    {
     "data": {
      "text/plain": [
       "dtype('<M8[ns]')"
      ]
     },
     "execution_count": 128,
     "metadata": {},
     "output_type": "execute_result"
    }
   ],
   "source": [
    "emprestimo_acervo['data_emprestimo'] = pd.to_datetime(emprestimo_acervo['data_emprestimo'])\n",
    "emprestimo_acervo['data_emprestimo'].dtypes"
   ]
  },
  {
   "cell_type": "code",
   "execution_count": 129,
   "id": "707996f8",
   "metadata": {},
   "outputs": [
    {
     "data": {
      "application/vnd.microsoft.datawrangler.viewer.v0+json": {
       "columns": [
        {
         "name": "index",
         "rawType": "int64",
         "type": "integer"
        },
        {
         "name": "ano",
         "rawType": "int32",
         "type": "integer"
        },
        {
         "name": "mes",
         "rawType": "int32",
         "type": "integer"
        },
        {
         "name": "quantidade",
         "rawType": "int64",
         "type": "integer"
        }
       ],
       "conversionMethod": "pd.DataFrame",
       "ref": "d5a2f97f-8aad-47a1-9bbe-6e64d0486869",
       "rows": [
        [
         "0",
         "2010",
         "1",
         "2996"
        ],
        [
         "1",
         "2010",
         "2",
         "7769"
        ],
        [
         "2",
         "2010",
         "3",
         "15275"
        ],
        [
         "3",
         "2010",
         "4",
         "12430"
        ],
        [
         "4",
         "2010",
         "5",
         "12164"
        ],
        [
         "5",
         "2010",
         "6",
         "9761"
        ],
        [
         "6",
         "2010",
         "7",
         "4776"
        ],
        [
         "7",
         "2010",
         "8",
         "14672"
        ],
        [
         "8",
         "2010",
         "9",
         "14763"
        ],
        [
         "9",
         "2010",
         "10",
         "12283"
        ],
        [
         "10",
         "2010",
         "11",
         "11791"
        ],
        [
         "11",
         "2010",
         "12",
         "6180"
        ],
        [
         "12",
         "2011",
         "1",
         "809"
        ],
        [
         "13",
         "2011",
         "2",
         "10454"
        ],
        [
         "14",
         "2011",
         "3",
         "16128"
        ],
        [
         "15",
         "2011",
         "4",
         "14718"
        ],
        [
         "16",
         "2011",
         "5",
         "16386"
        ],
        [
         "17",
         "2011",
         "6",
         "13528"
        ],
        [
         "18",
         "2011",
         "7",
         "6003"
        ],
        [
         "19",
         "2011",
         "8",
         "20393"
        ],
        [
         "20",
         "2011",
         "9",
         "19309"
        ],
        [
         "21",
         "2011",
         "10",
         "15648"
        ],
        [
         "22",
         "2011",
         "11",
         "15363"
        ],
        [
         "23",
         "2011",
         "12",
         "9164"
        ],
        [
         "24",
         "2012",
         "1",
         "4987"
        ],
        [
         "25",
         "2012",
         "2",
         "17310"
        ],
        [
         "26",
         "2012",
         "3",
         "22797"
        ],
        [
         "27",
         "2012",
         "4",
         "19202"
        ],
        [
         "28",
         "2012",
         "5",
         "17951"
        ],
        [
         "29",
         "2012",
         "6",
         "11194"
        ],
        [
         "30",
         "2012",
         "7",
         "3972"
        ],
        [
         "31",
         "2012",
         "8",
         "18898"
        ],
        [
         "32",
         "2012",
         "9",
         "17663"
        ],
        [
         "33",
         "2012",
         "10",
         "18135"
        ],
        [
         "34",
         "2012",
         "11",
         "16688"
        ],
        [
         "35",
         "2012",
         "12",
         "8540"
        ],
        [
         "36",
         "2013",
         "1",
         "5353"
        ],
        [
         "37",
         "2013",
         "2",
         "21356"
        ],
        [
         "38",
         "2013",
         "3",
         "20037"
        ],
        [
         "39",
         "2013",
         "4",
         "21853"
        ],
        [
         "40",
         "2013",
         "5",
         "18310"
        ],
        [
         "41",
         "2013",
         "6",
         "10571"
        ],
        [
         "42",
         "2013",
         "7",
         "11816"
        ],
        [
         "43",
         "2013",
         "8",
         "19257"
        ],
        [
         "44",
         "2013",
         "9",
         "19189"
        ],
        [
         "45",
         "2013",
         "10",
         "16893"
        ],
        [
         "46",
         "2013",
         "11",
         "15162"
        ],
        [
         "47",
         "2013",
         "12",
         "6018"
        ],
        [
         "48",
         "2014",
         "1",
         "12476"
        ],
        [
         "49",
         "2014",
         "2",
         "20460"
        ]
       ],
       "shape": {
        "columns": 3,
        "rows": 123
       }
      },
      "text/html": [
       "<div>\n",
       "<style scoped>\n",
       "    .dataframe tbody tr th:only-of-type {\n",
       "        vertical-align: middle;\n",
       "    }\n",
       "\n",
       "    .dataframe tbody tr th {\n",
       "        vertical-align: top;\n",
       "    }\n",
       "\n",
       "    .dataframe thead th {\n",
       "        text-align: right;\n",
       "    }\n",
       "</style>\n",
       "<table border=\"1\" class=\"dataframe\">\n",
       "  <thead>\n",
       "    <tr style=\"text-align: right;\">\n",
       "      <th></th>\n",
       "      <th>ano</th>\n",
       "      <th>mes</th>\n",
       "      <th>quantidade</th>\n",
       "    </tr>\n",
       "  </thead>\n",
       "  <tbody>\n",
       "    <tr>\n",
       "      <th>0</th>\n",
       "      <td>2010</td>\n",
       "      <td>1</td>\n",
       "      <td>2996</td>\n",
       "    </tr>\n",
       "    <tr>\n",
       "      <th>1</th>\n",
       "      <td>2010</td>\n",
       "      <td>2</td>\n",
       "      <td>7769</td>\n",
       "    </tr>\n",
       "    <tr>\n",
       "      <th>2</th>\n",
       "      <td>2010</td>\n",
       "      <td>3</td>\n",
       "      <td>15275</td>\n",
       "    </tr>\n",
       "    <tr>\n",
       "      <th>3</th>\n",
       "      <td>2010</td>\n",
       "      <td>4</td>\n",
       "      <td>12430</td>\n",
       "    </tr>\n",
       "    <tr>\n",
       "      <th>4</th>\n",
       "      <td>2010</td>\n",
       "      <td>5</td>\n",
       "      <td>12164</td>\n",
       "    </tr>\n",
       "    <tr>\n",
       "      <th>...</th>\n",
       "      <td>...</td>\n",
       "      <td>...</td>\n",
       "      <td>...</td>\n",
       "    </tr>\n",
       "    <tr>\n",
       "      <th>118</th>\n",
       "      <td>2019</td>\n",
       "      <td>11</td>\n",
       "      <td>8807</td>\n",
       "    </tr>\n",
       "    <tr>\n",
       "      <th>119</th>\n",
       "      <td>2019</td>\n",
       "      <td>12</td>\n",
       "      <td>1980</td>\n",
       "    </tr>\n",
       "    <tr>\n",
       "      <th>120</th>\n",
       "      <td>2020</td>\n",
       "      <td>1</td>\n",
       "      <td>1781</td>\n",
       "    </tr>\n",
       "    <tr>\n",
       "      <th>121</th>\n",
       "      <td>2020</td>\n",
       "      <td>2</td>\n",
       "      <td>8138</td>\n",
       "    </tr>\n",
       "    <tr>\n",
       "      <th>122</th>\n",
       "      <td>2020</td>\n",
       "      <td>3</td>\n",
       "      <td>8685</td>\n",
       "    </tr>\n",
       "  </tbody>\n",
       "</table>\n",
       "<p>123 rows × 3 columns</p>\n",
       "</div>"
      ],
      "text/plain": [
       "      ano  mes  quantidade\n",
       "0    2010    1        2996\n",
       "1    2010    2        7769\n",
       "2    2010    3       15275\n",
       "3    2010    4       12430\n",
       "4    2010    5       12164\n",
       "..    ...  ...         ...\n",
       "118  2019   11        8807\n",
       "119  2019   12        1980\n",
       "120  2020    1        1781\n",
       "121  2020    2        8138\n",
       "122  2020    3        8685\n",
       "\n",
       "[123 rows x 3 columns]"
      ]
     },
     "execution_count": 129,
     "metadata": {},
     "output_type": "execute_result"
    }
   ],
   "source": [
    "# Empréstimo feito por alunos de graduação do acervo circulante\n",
    "dados_filtrados = emprestimo_acervo.query(\"tipo_vinculo_usuario == 'ALUNO DE GRADUAÇÃO' and colecao == 'Acervo Circulante'\").copy()\n",
    "\n",
    "dados_filtrados['ano'] = dados_filtrados['data_emprestimo'].dt.year\n",
    "dados_filtrados['mes'] = dados_filtrados['data_emprestimo'].dt.month\n",
    "\n",
    "graduacao_acervo = (\n",
    "    dados_filtrados.groupby(['ano', 'mes'])\n",
    "    .size()\n",
    "    .reset_index(name = 'quantidade')\n",
    "    .sort_values(['ano', 'mes'])\n",
    ")\n",
    "\n",
    "graduacao_acervo"
   ]
  },
  {
   "cell_type": "code",
   "execution_count": 132,
   "id": "1e163a5d",
   "metadata": {},
   "outputs": [],
   "source": [
    "def gerar_boxplot(dados, titulo, subtitulo):\n",
    "\n",
    "    sns.set_theme(style=\"darkgrid\")\n",
    "\n",
    "    ax = sns.boxplot(\n",
    "        x = 'ano',\n",
    "        y = 'quantidade',\n",
    "        data = dados\n",
    "    )\n",
    "\n",
    "    ax.set_title(titulo+\"\\n\",size=16,loc='left',weight='bold')\n",
    "    ax.text(s=subtitulo,x=-0.5,y=max(dados['quantidade'])*1.08,fontsize=12, ha='left',color='gray')  \n",
    "    ax.set_xlabel(None)\n",
    "    ax.set_ylabel(None)\n",
    "\n",
    "    plt.tight_layout()\n",
    "    plt.show()"
   ]
  },
  {
   "cell_type": "code",
   "execution_count": null,
   "id": "ccb58ba1",
   "metadata": {},
   "outputs": [
    {
     "data": {
      "image/png": "[encoded data removed]",
      "text/plain": [
       "<Figure size 640x480 with 1 Axes>"
      ]
     },
     "metadata": {},
     "output_type": "display_data"
    }
   ],
   "source": [
    "gerar_boxplot(graduacao_acervo, \"Distribuição de empréstimos mensais\", \"Alunos de graduação do acervo circulante\")\n",
    "\n",
    "# O ano 2013 foi a última alta, após isso houve uma pequena queda em 2014 mas que se manteve até 2016.\n",
    "# A partir de 2017 a queda foi drástica.\n",
    "# 2014 e 2017 se destacam com os outliers, provavelmente sendo janeiro e dezembro que se fossem desconsiderados esse dois anos\n",
    "# teriam um resultado bastante estável."
   ]
  },
  {
   "cell_type": "code",
   "execution_count": 134,
   "id": "6bc810be",
   "metadata": {},
   "outputs": [
    {
     "data": {
      "application/vnd.microsoft.datawrangler.viewer.v0+json": {
       "columns": [
        {
         "name": "colecao",
         "rawType": "object",
         "type": "string"
        },
        {
         "name": "contagem",
         "rawType": "int64",
         "type": "integer"
        },
        {
         "name": "porcentagem",
         "rawType": "float64",
         "type": "float"
        }
       ],
       "conversionMethod": "pd.DataFrame",
       "ref": "fe207eb4-e7ab-46e1-aa2b-e7cf66f5ef6e",
       "rows": [
        [
         "Acervo Circulante",
         "299201",
         "98.9"
        ],
        [
         "Dissertações",
         "934",
         "0.31"
        ],
        [
         "Obras de Referência",
         "700",
         "0.23"
        ],
        [
         "Multimeios",
         "559",
         "0.18"
        ],
        [
         "Teses",
         "367",
         "0.12"
        ],
        [
         "Monografias",
         "278",
         "0.09"
        ],
        [
         "Publicações de Autores do RN",
         "204",
         "0.07"
        ],
        [
         "Publicações da UFRN",
         "121",
         "0.04"
        ],
        [
         "Folhetos",
         "60",
         "0.02"
        ],
        [
         "Necessidades Educacionais Específicas",
         "30",
         "0.01"
        ],
        [
         "Eventos",
         "26",
         "0.01"
        ],
        [
         "Trabalho Acadêmico",
         "23",
         "0.01"
        ],
        [
         "Coleção Mossoroense",
         "23",
         "0.01"
        ],
        [
         "Coleção Zila Mamede",
         "11",
         "0.0"
        ],
        [
         "Literatura de Cordel",
         "4",
         "0.0"
        ]
       ],
       "shape": {
        "columns": 2,
        "rows": 15
       }
      },
      "text/html": [
       "<div>\n",
       "<style scoped>\n",
       "    .dataframe tbody tr th:only-of-type {\n",
       "        vertical-align: middle;\n",
       "    }\n",
       "\n",
       "    .dataframe tbody tr th {\n",
       "        vertical-align: top;\n",
       "    }\n",
       "\n",
       "    .dataframe thead th {\n",
       "        text-align: right;\n",
       "    }\n",
       "</style>\n",
       "<table border=\"1\" class=\"dataframe\">\n",
       "  <thead>\n",
       "    <tr style=\"text-align: right;\">\n",
       "      <th></th>\n",
       "      <th>contagem</th>\n",
       "      <th>porcentagem</th>\n",
       "    </tr>\n",
       "    <tr>\n",
       "      <th>colecao</th>\n",
       "      <th></th>\n",
       "      <th></th>\n",
       "    </tr>\n",
       "  </thead>\n",
       "  <tbody>\n",
       "    <tr>\n",
       "      <th>Acervo Circulante</th>\n",
       "      <td>299201</td>\n",
       "      <td>98.90</td>\n",
       "    </tr>\n",
       "    <tr>\n",
       "      <th>Dissertações</th>\n",
       "      <td>934</td>\n",
       "      <td>0.31</td>\n",
       "    </tr>\n",
       "    <tr>\n",
       "      <th>Obras de Referência</th>\n",
       "      <td>700</td>\n",
       "      <td>0.23</td>\n",
       "    </tr>\n",
       "    <tr>\n",
       "      <th>Multimeios</th>\n",
       "      <td>559</td>\n",
       "      <td>0.18</td>\n",
       "    </tr>\n",
       "    <tr>\n",
       "      <th>Teses</th>\n",
       "      <td>367</td>\n",
       "      <td>0.12</td>\n",
       "    </tr>\n",
       "    <tr>\n",
       "      <th>Monografias</th>\n",
       "      <td>278</td>\n",
       "      <td>0.09</td>\n",
       "    </tr>\n",
       "    <tr>\n",
       "      <th>Publicações de Autores do RN</th>\n",
       "      <td>204</td>\n",
       "      <td>0.07</td>\n",
       "    </tr>\n",
       "    <tr>\n",
       "      <th>Publicações da UFRN</th>\n",
       "      <td>121</td>\n",
       "      <td>0.04</td>\n",
       "    </tr>\n",
       "    <tr>\n",
       "      <th>Folhetos</th>\n",
       "      <td>60</td>\n",
       "      <td>0.02</td>\n",
       "    </tr>\n",
       "    <tr>\n",
       "      <th>Necessidades Educacionais Específicas</th>\n",
       "      <td>30</td>\n",
       "      <td>0.01</td>\n",
       "    </tr>\n",
       "    <tr>\n",
       "      <th>Eventos</th>\n",
       "      <td>26</td>\n",
       "      <td>0.01</td>\n",
       "    </tr>\n",
       "    <tr>\n",
       "      <th>Trabalho Acadêmico</th>\n",
       "      <td>23</td>\n",
       "      <td>0.01</td>\n",
       "    </tr>\n",
       "    <tr>\n",
       "      <th>Coleção Mossoroense</th>\n",
       "      <td>23</td>\n",
       "      <td>0.01</td>\n",
       "    </tr>\n",
       "    <tr>\n",
       "      <th>Coleção Zila Mamede</th>\n",
       "      <td>11</td>\n",
       "      <td>0.00</td>\n",
       "    </tr>\n",
       "    <tr>\n",
       "      <th>Literatura de Cordel</th>\n",
       "      <td>4</td>\n",
       "      <td>0.00</td>\n",
       "    </tr>\n",
       "  </tbody>\n",
       "</table>\n",
       "</div>"
      ],
      "text/plain": [
       "                                       contagem  porcentagem\n",
       "colecao                                                     \n",
       "Acervo Circulante                        299201        98.90\n",
       "Dissertações                                934         0.31\n",
       "Obras de Referência                         700         0.23\n",
       "Multimeios                                  559         0.18\n",
       "Teses                                       367         0.12\n",
       "Monografias                                 278         0.09\n",
       "Publicações de Autores do RN                204         0.07\n",
       "Publicações da UFRN                         121         0.04\n",
       "Folhetos                                     60         0.02\n",
       "Necessidades Educacionais Específicas        30         0.01\n",
       "Eventos                                      26         0.01\n",
       "Trabalho Acadêmico                           23         0.01\n",
       "Coleção Mossoroense                          23         0.01\n",
       "Coleção Zila Mamede                          11         0.00\n",
       "Literatura de Cordel                          4         0.00"
      ]
     },
     "execution_count": 134,
     "metadata": {},
     "output_type": "execute_result"
    }
   ],
   "source": [
    "dados_filtrados = emprestimo_acervo.query('tipo_vinculo_usuario == \"ALUNO DE PÓS-GRADUAÇÃO\"')\n",
    "contagem = dados_filtrados['colecao'].value_counts()\n",
    "porcentagem = (contagem / contagem.sum()) * 100\n",
    "\n",
    "colecao_pos = pd.DataFrame({\n",
    "    'contagem': contagem,\n",
    "    'porcentagem': porcentagem.round(2) \n",
    "})\n",
    "\n",
    "colecao_pos"
   ]
  },
  {
   "cell_type": "code",
   "execution_count": 135,
   "id": "9fa37430",
   "metadata": {},
   "outputs": [
    {
     "data": {
      "application/vnd.microsoft.datawrangler.viewer.v0+json": {
       "columns": [
        {
         "name": "index",
         "rawType": "int64",
         "type": "integer"
        },
        {
         "name": "ano",
         "rawType": "int32",
         "type": "integer"
        },
        {
         "name": "mes",
         "rawType": "int32",
         "type": "integer"
        },
        {
         "name": "quantidade",
         "rawType": "int64",
         "type": "integer"
        }
       ],
       "conversionMethod": "pd.DataFrame",
       "ref": "202d46eb-129a-4707-b1b0-8e696656763f",
       "rows": [
        [
         "0",
         "2010",
         "1",
         "1105"
        ],
        [
         "1",
         "2010",
         "2",
         "1474"
        ],
        [
         "2",
         "2010",
         "3",
         "2919"
        ],
        [
         "3",
         "2010",
         "4",
         "2716"
        ],
        [
         "4",
         "2010",
         "5",
         "2514"
        ],
        [
         "5",
         "2010",
         "6",
         "1920"
        ],
        [
         "6",
         "2010",
         "7",
         "1522"
        ],
        [
         "7",
         "2010",
         "8",
         "2222"
        ],
        [
         "8",
         "2010",
         "9",
         "2297"
        ],
        [
         "9",
         "2010",
         "10",
         "2026"
        ],
        [
         "10",
         "2010",
         "11",
         "1782"
        ],
        [
         "11",
         "2010",
         "12",
         "1275"
        ],
        [
         "12",
         "2011",
         "1",
         "465"
        ],
        [
         "13",
         "2011",
         "2",
         "1563"
        ],
        [
         "14",
         "2011",
         "3",
         "2573"
        ],
        [
         "15",
         "2011",
         "4",
         "2431"
        ],
        [
         "16",
         "2011",
         "5",
         "2591"
        ],
        [
         "17",
         "2011",
         "6",
         "2095"
        ],
        [
         "18",
         "2011",
         "7",
         "1945"
        ],
        [
         "19",
         "2011",
         "8",
         "2818"
        ],
        [
         "20",
         "2011",
         "9",
         "2595"
        ],
        [
         "21",
         "2011",
         "10",
         "2340"
        ],
        [
         "22",
         "2011",
         "11",
         "2030"
        ],
        [
         "23",
         "2011",
         "12",
         "1903"
        ],
        [
         "24",
         "2012",
         "1",
         "1714"
        ],
        [
         "25",
         "2012",
         "2",
         "2217"
        ],
        [
         "26",
         "2012",
         "3",
         "3575"
        ],
        [
         "27",
         "2012",
         "4",
         "2956"
        ],
        [
         "28",
         "2012",
         "5",
         "2993"
        ],
        [
         "29",
         "2012",
         "6",
         "2025"
        ],
        [
         "30",
         "2012",
         "7",
         "1566"
        ],
        [
         "31",
         "2012",
         "8",
         "2351"
        ],
        [
         "32",
         "2012",
         "9",
         "2341"
        ],
        [
         "33",
         "2012",
         "10",
         "2553"
        ],
        [
         "34",
         "2012",
         "11",
         "2370"
        ],
        [
         "35",
         "2012",
         "12",
         "1691"
        ],
        [
         "36",
         "2013",
         "1",
         "1753"
        ],
        [
         "37",
         "2013",
         "2",
         "2445"
        ],
        [
         "38",
         "2013",
         "3",
         "3274"
        ],
        [
         "39",
         "2013",
         "4",
         "3186"
        ],
        [
         "40",
         "2013",
         "5",
         "2921"
        ],
        [
         "41",
         "2013",
         "6",
         "2104"
        ],
        [
         "42",
         "2013",
         "7",
         "2767"
        ],
        [
         "43",
         "2013",
         "8",
         "3110"
        ],
        [
         "44",
         "2013",
         "9",
         "3181"
        ],
        [
         "45",
         "2013",
         "10",
         "2791"
        ],
        [
         "46",
         "2013",
         "11",
         "2528"
        ],
        [
         "47",
         "2013",
         "12",
         "2108"
        ],
        [
         "48",
         "2014",
         "1",
         "2316"
        ],
        [
         "49",
         "2014",
         "2",
         "3583"
        ]
       ],
       "shape": {
        "columns": 3,
        "rows": 124
       }
      },
      "text/html": [
       "<div>\n",
       "<style scoped>\n",
       "    .dataframe tbody tr th:only-of-type {\n",
       "        vertical-align: middle;\n",
       "    }\n",
       "\n",
       "    .dataframe tbody tr th {\n",
       "        vertical-align: top;\n",
       "    }\n",
       "\n",
       "    .dataframe thead th {\n",
       "        text-align: right;\n",
       "    }\n",
       "</style>\n",
       "<table border=\"1\" class=\"dataframe\">\n",
       "  <thead>\n",
       "    <tr style=\"text-align: right;\">\n",
       "      <th></th>\n",
       "      <th>ano</th>\n",
       "      <th>mes</th>\n",
       "      <th>quantidade</th>\n",
       "    </tr>\n",
       "  </thead>\n",
       "  <tbody>\n",
       "    <tr>\n",
       "      <th>0</th>\n",
       "      <td>2010</td>\n",
       "      <td>1</td>\n",
       "      <td>1105</td>\n",
       "    </tr>\n",
       "    <tr>\n",
       "      <th>1</th>\n",
       "      <td>2010</td>\n",
       "      <td>2</td>\n",
       "      <td>1474</td>\n",
       "    </tr>\n",
       "    <tr>\n",
       "      <th>2</th>\n",
       "      <td>2010</td>\n",
       "      <td>3</td>\n",
       "      <td>2919</td>\n",
       "    </tr>\n",
       "    <tr>\n",
       "      <th>3</th>\n",
       "      <td>2010</td>\n",
       "      <td>4</td>\n",
       "      <td>2716</td>\n",
       "    </tr>\n",
       "    <tr>\n",
       "      <th>4</th>\n",
       "      <td>2010</td>\n",
       "      <td>5</td>\n",
       "      <td>2514</td>\n",
       "    </tr>\n",
       "    <tr>\n",
       "      <th>...</th>\n",
       "      <td>...</td>\n",
       "      <td>...</td>\n",
       "      <td>...</td>\n",
       "    </tr>\n",
       "    <tr>\n",
       "      <th>119</th>\n",
       "      <td>2019</td>\n",
       "      <td>12</td>\n",
       "      <td>1069</td>\n",
       "    </tr>\n",
       "    <tr>\n",
       "      <th>120</th>\n",
       "      <td>2020</td>\n",
       "      <td>1</td>\n",
       "      <td>1143</td>\n",
       "    </tr>\n",
       "    <tr>\n",
       "      <th>121</th>\n",
       "      <td>2020</td>\n",
       "      <td>2</td>\n",
       "      <td>1189</td>\n",
       "    </tr>\n",
       "    <tr>\n",
       "      <th>122</th>\n",
       "      <td>2020</td>\n",
       "      <td>3</td>\n",
       "      <td>1471</td>\n",
       "    </tr>\n",
       "    <tr>\n",
       "      <th>123</th>\n",
       "      <td>2020</td>\n",
       "      <td>6</td>\n",
       "      <td>2</td>\n",
       "    </tr>\n",
       "  </tbody>\n",
       "</table>\n",
       "<p>124 rows × 3 columns</p>\n",
       "</div>"
      ],
      "text/plain": [
       "      ano  mes  quantidade\n",
       "0    2010    1        1105\n",
       "1    2010    2        1474\n",
       "2    2010    3        2919\n",
       "3    2010    4        2716\n",
       "4    2010    5        2514\n",
       "..    ...  ...         ...\n",
       "119  2019   12        1069\n",
       "120  2020    1        1143\n",
       "121  2020    2        1189\n",
       "122  2020    3        1471\n",
       "123  2020    6           2\n",
       "\n",
       "[124 rows x 3 columns]"
      ]
     },
     "execution_count": 135,
     "metadata": {},
     "output_type": "execute_result"
    }
   ],
   "source": [
    "dados_filtrados = emprestimo_acervo.query(\"tipo_vinculo_usuario == 'ALUNO DE PÓS-GRADUAÇÃO' and colecao == 'Acervo Circulante'\").copy()\n",
    "\n",
    "dados_filtrados['ano'] = emprestimo_acervo['data_emprestimo'].dt.year\n",
    "dados_filtrados['mes'] = emprestimo_acervo['data_emprestimo'].dt.month\n",
    "\n",
    "pos_acervo = (\n",
    "    dados_filtrados.groupby(['ano', 'mes'])\n",
    "    .size()\n",
    "    .reset_index(name = 'quantidade')\n",
    "    .sort_values(['ano', 'mes'])\n",
    ")\n",
    "\n",
    "pos_acervo"
   ]
  },
  {
   "cell_type": "code",
   "execution_count": null,
   "id": "f40747bf",
   "metadata": {},
   "outputs": [
    {
     "data": {
      "image/png": "[encoded data removed]",
      "text/plain": [
       "<Figure size 640x480 with 1 Axes>"
      ]
     },
     "metadata": {},
     "output_type": "display_data"
    }
   ],
   "source": [
    "gerar_boxplot(pos_acervo, \"Distribuição de empréstimos mensais\", \"Alunos de pós-graduação do acervo circulante\")\n",
    "\n",
    "# Diferente dos alunos de graduação, os alunos de pós se mantiveram estáveis até 2018 onde 2016 foi a última alta.\n",
    "# 2019 já teve um rendimento abaixo, provavelmente 2020 e anos seguintes continuem essa tendência.\n",
    "# Seria isso um reflexo da alta de 2013 dos alunos de graduação e que após isso fizeram a pós, e que agora está começando a refletir\n",
    "# de que indicativo dos alunos de graduação pode ser uma previsão do comportamento dos alunos de pós.\n",
    "# Tudo isso pode levar a outros questionamentos. Teria uma queda no quadro de alunos?"
   ]
  }
 ],
 "metadata": {
  "kernelspec": {
   "display_name": "Python 3",
   "language": "python",
   "name": "python3"
  },
  "language_info": {
   "codemirror_mode": {
    "name": "ipython",
    "version": 3
   },
   "file_extension": ".py",
   "mimetype": "text/x-python",
   "name": "python",
   "nbconvert_exporter": "python",
   "pygments_lexer": "ipython3",
   "version": "3.11.9"
  }
 },
 "nbformat": 4,
 "nbformat_minor": 5
}

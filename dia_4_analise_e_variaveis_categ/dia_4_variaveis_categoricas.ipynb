{
 "cells": [
  {
   "cell_type": "code",
   "execution_count": 1,
   "id": "89ebe823",
   "metadata": {},
   "outputs": [],
   "source": [
    "import pandas as pd\n",
    "import matplotlib.pyplot as plt\n",
    "import seaborn as sns"
   ]
  },
  {
   "cell_type": "code",
   "execution_count": 2,
   "id": "01036caf",
   "metadata": {},
   "outputs": [
    {
     "data": {
      "application/vnd.microsoft.datawrangler.viewer.v0+json": {
       "columns": [
        {
         "name": "index",
         "rawType": "int64",
         "type": "integer"
        },
        {
         "name": "id_emprestimo",
         "rawType": "int64",
         "type": "integer"
        },
        {
         "name": "codigo_barras",
         "rawType": "object",
         "type": "string"
        },
        {
         "name": "data_renovacao",
         "rawType": "object",
         "type": "unknown"
        },
        {
         "name": "data_emprestimo",
         "rawType": "object",
         "type": "string"
        },
        {
         "name": "data_devolucao",
         "rawType": "object",
         "type": "string"
        },
        {
         "name": "matricula_ou_siape",
         "rawType": "string",
         "type": "string"
        },
        {
         "name": "tipo_vinculo_usuario",
         "rawType": "object",
         "type": "string"
        },
        {
         "name": "id_exemplar",
         "rawType": "int64",
         "type": "integer"
        },
        {
         "name": "colecao",
         "rawType": "object",
         "type": "string"
        },
        {
         "name": "biblioteca",
         "rawType": "object",
         "type": "string"
        },
        {
         "name": "status_material",
         "rawType": "object",
         "type": "string"
        },
        {
         "name": "localizacao",
         "rawType": "int64",
         "type": "integer"
        },
        {
         "name": "CDU",
         "rawType": "object",
         "type": "string"
        }
       ],
       "conversionMethod": "pd.DataFrame",
       "ref": "551ca0e8-e2d3-421b-bda8-39715f0c7d9e",
       "rows": [
        [
         "0",
         "709684",
         "L095049",
         null,
         "2010/01/04 07:44:10.721000000",
         "2010/01/05 16:26:12.662000000",
         "2008023265.0",
         "ALUNO DE GRADUAÇÃO",
         "13259",
         "Acervo Circulante",
         "Biblioteca Central Zila Mamede",
         "REGULAR",
         "630",
         "Ciências aplicadas."
        ],
        [
         "1",
         "709685",
         "L167050",
         null,
         "2010/01/04 07:44:10.750000000",
         "2010/01/12 07:34:13.934000000",
         "2008023265.0",
         "ALUNO DE GRADUAÇÃO",
         "70865",
         "Acervo Circulante",
         "Biblioteca Central Zila Mamede",
         "REGULAR",
         "647",
         "Ciências aplicadas."
        ],
        [
         "2",
         "709686",
         "2006017618",
         "2010/01/26 08:07:01.738000000",
         "2010/01/04 08:08:44.081000000",
         "2010/02/25 07:36:25.800000000",
         "2008112114.0",
         "ALUNO DE PÓS-GRADUAÇÃO",
         "195347",
         "Acervo Circulante",
         "Biblioteca Setorial Prof. Rodolfo Helinski - Escola Agrícola de Jundiaí - EAJ  - Macaiba",
         "REGULAR",
         "640",
         "Ciências aplicadas."
        ],
        [
         "3",
         "709687",
         "L184117",
         "2010/01/18 11:07:46.470000000",
         "2010/01/04 08:24:21.284000000",
         "2010/02/03 08:58:45.692000000",
         "200721119.0",
         "ALUNO DE GRADUAÇÃO",
         "131639",
         "Acervo Circulante",
         "Biblioteca Central Zila Mamede",
         "REGULAR",
         "609",
         "Ciências aplicadas."
        ],
        [
         "4",
         "709688",
         "2007027500",
         "2010/01/19 15:59:26.464000000",
         "2010/01/04 08:27:33.569000000",
         "2010/02/03 13:06:30.662000000",
         "2009045971.0",
         "ALUNO DE GRADUAÇÃO",
         "225646",
         "Acervo Circulante",
         "Biblioteca Central Zila Mamede",
         "REGULAR",
         "686",
         "Ciências aplicadas."
        ]
       ],
       "shape": {
        "columns": 13,
        "rows": 5
       }
      },
      "text/html": [
       "<div>\n",
       "<style scoped>\n",
       "    .dataframe tbody tr th:only-of-type {\n",
       "        vertical-align: middle;\n",
       "    }\n",
       "\n",
       "    .dataframe tbody tr th {\n",
       "        vertical-align: top;\n",
       "    }\n",
       "\n",
       "    .dataframe thead th {\n",
       "        text-align: right;\n",
       "    }\n",
       "</style>\n",
       "<table border=\"1\" class=\"dataframe\">\n",
       "  <thead>\n",
       "    <tr style=\"text-align: right;\">\n",
       "      <th></th>\n",
       "      <th>id_emprestimo</th>\n",
       "      <th>codigo_barras</th>\n",
       "      <th>data_renovacao</th>\n",
       "      <th>data_emprestimo</th>\n",
       "      <th>data_devolucao</th>\n",
       "      <th>matricula_ou_siape</th>\n",
       "      <th>tipo_vinculo_usuario</th>\n",
       "      <th>id_exemplar</th>\n",
       "      <th>colecao</th>\n",
       "      <th>biblioteca</th>\n",
       "      <th>status_material</th>\n",
       "      <th>localizacao</th>\n",
       "      <th>CDU</th>\n",
       "    </tr>\n",
       "  </thead>\n",
       "  <tbody>\n",
       "    <tr>\n",
       "      <th>0</th>\n",
       "      <td>709684</td>\n",
       "      <td>L095049</td>\n",
       "      <td>None</td>\n",
       "      <td>2010/01/04 07:44:10.721000000</td>\n",
       "      <td>2010/01/05 16:26:12.662000000</td>\n",
       "      <td>2008023265.0</td>\n",
       "      <td>ALUNO DE GRADUAÇÃO</td>\n",
       "      <td>13259</td>\n",
       "      <td>Acervo Circulante</td>\n",
       "      <td>Biblioteca Central Zila Mamede</td>\n",
       "      <td>REGULAR</td>\n",
       "      <td>630</td>\n",
       "      <td>Ciências aplicadas.</td>\n",
       "    </tr>\n",
       "    <tr>\n",
       "      <th>1</th>\n",
       "      <td>709685</td>\n",
       "      <td>L167050</td>\n",
       "      <td>None</td>\n",
       "      <td>2010/01/04 07:44:10.750000000</td>\n",
       "      <td>2010/01/12 07:34:13.934000000</td>\n",
       "      <td>2008023265.0</td>\n",
       "      <td>ALUNO DE GRADUAÇÃO</td>\n",
       "      <td>70865</td>\n",
       "      <td>Acervo Circulante</td>\n",
       "      <td>Biblioteca Central Zila Mamede</td>\n",
       "      <td>REGULAR</td>\n",
       "      <td>647</td>\n",
       "      <td>Ciências aplicadas.</td>\n",
       "    </tr>\n",
       "    <tr>\n",
       "      <th>2</th>\n",
       "      <td>709686</td>\n",
       "      <td>2006017618</td>\n",
       "      <td>2010/01/26 08:07:01.738000000</td>\n",
       "      <td>2010/01/04 08:08:44.081000000</td>\n",
       "      <td>2010/02/25 07:36:25.800000000</td>\n",
       "      <td>2008112114.0</td>\n",
       "      <td>ALUNO DE PÓS-GRADUAÇÃO</td>\n",
       "      <td>195347</td>\n",
       "      <td>Acervo Circulante</td>\n",
       "      <td>Biblioteca Setorial Prof. Rodolfo Helinski - E...</td>\n",
       "      <td>REGULAR</td>\n",
       "      <td>640</td>\n",
       "      <td>Ciências aplicadas.</td>\n",
       "    </tr>\n",
       "    <tr>\n",
       "      <th>3</th>\n",
       "      <td>709687</td>\n",
       "      <td>L184117</td>\n",
       "      <td>2010/01/18 11:07:46.470000000</td>\n",
       "      <td>2010/01/04 08:24:21.284000000</td>\n",
       "      <td>2010/02/03 08:58:45.692000000</td>\n",
       "      <td>200721119.0</td>\n",
       "      <td>ALUNO DE GRADUAÇÃO</td>\n",
       "      <td>131639</td>\n",
       "      <td>Acervo Circulante</td>\n",
       "      <td>Biblioteca Central Zila Mamede</td>\n",
       "      <td>REGULAR</td>\n",
       "      <td>609</td>\n",
       "      <td>Ciências aplicadas.</td>\n",
       "    </tr>\n",
       "    <tr>\n",
       "      <th>4</th>\n",
       "      <td>709688</td>\n",
       "      <td>2007027500</td>\n",
       "      <td>2010/01/19 15:59:26.464000000</td>\n",
       "      <td>2010/01/04 08:27:33.569000000</td>\n",
       "      <td>2010/02/03 13:06:30.662000000</td>\n",
       "      <td>2009045971.0</td>\n",
       "      <td>ALUNO DE GRADUAÇÃO</td>\n",
       "      <td>225646</td>\n",
       "      <td>Acervo Circulante</td>\n",
       "      <td>Biblioteca Central Zila Mamede</td>\n",
       "      <td>REGULAR</td>\n",
       "      <td>686</td>\n",
       "      <td>Ciências aplicadas.</td>\n",
       "    </tr>\n",
       "  </tbody>\n",
       "</table>\n",
       "</div>"
      ],
      "text/plain": [
       "   id_emprestimo codigo_barras                 data_renovacao  \\\n",
       "0         709684       L095049                           None   \n",
       "1         709685       L167050                           None   \n",
       "2         709686    2006017618  2010/01/26 08:07:01.738000000   \n",
       "3         709687       L184117  2010/01/18 11:07:46.470000000   \n",
       "4         709688    2007027500  2010/01/19 15:59:26.464000000   \n",
       "\n",
       "                 data_emprestimo                 data_devolucao  \\\n",
       "0  2010/01/04 07:44:10.721000000  2010/01/05 16:26:12.662000000   \n",
       "1  2010/01/04 07:44:10.750000000  2010/01/12 07:34:13.934000000   \n",
       "2  2010/01/04 08:08:44.081000000  2010/02/25 07:36:25.800000000   \n",
       "3  2010/01/04 08:24:21.284000000  2010/02/03 08:58:45.692000000   \n",
       "4  2010/01/04 08:27:33.569000000  2010/02/03 13:06:30.662000000   \n",
       "\n",
       "  matricula_ou_siape    tipo_vinculo_usuario  id_exemplar            colecao  \\\n",
       "0       2008023265.0      ALUNO DE GRADUAÇÃO        13259  Acervo Circulante   \n",
       "1       2008023265.0      ALUNO DE GRADUAÇÃO        70865  Acervo Circulante   \n",
       "2       2008112114.0  ALUNO DE PÓS-GRADUAÇÃO       195347  Acervo Circulante   \n",
       "3        200721119.0      ALUNO DE GRADUAÇÃO       131639  Acervo Circulante   \n",
       "4       2009045971.0      ALUNO DE GRADUAÇÃO       225646  Acervo Circulante   \n",
       "\n",
       "                                          biblioteca status_material  \\\n",
       "0                     Biblioteca Central Zila Mamede         REGULAR   \n",
       "1                     Biblioteca Central Zila Mamede         REGULAR   \n",
       "2  Biblioteca Setorial Prof. Rodolfo Helinski - E...         REGULAR   \n",
       "3                     Biblioteca Central Zila Mamede         REGULAR   \n",
       "4                     Biblioteca Central Zila Mamede         REGULAR   \n",
       "\n",
       "   localizacao                  CDU  \n",
       "0          630  Ciências aplicadas.  \n",
       "1          647  Ciências aplicadas.  \n",
       "2          640  Ciências aplicadas.  \n",
       "3          609  Ciências aplicadas.  \n",
       "4          686  Ciências aplicadas.  "
      ]
     },
     "execution_count": 2,
     "metadata": {},
     "output_type": "execute_result"
    }
   ],
   "source": [
    "emprestimo_acervo = pd.read_parquet('../dia_3_analise_e_date_time/emprestimo_acervo/emprestimo_acervo.parquet')\n",
    "emprestimo_acervo.head()"
   ]
  },
  {
   "cell_type": "code",
   "execution_count": 3,
   "id": "08ee22ae",
   "metadata": {},
   "outputs": [],
   "source": [
    "def contagem_variavel(variavel):\n",
    "    contagem = emprestimo_acervo[variavel].value_counts()\n",
    "    porcentagem = (contagem / contagem.sum()) * 100\n",
    "    return pd.DataFrame({\n",
    "        'Contagem': contagem,\n",
    "        'Porcentagem (%)': porcentagem.round(2)\n",
    "    })"
   ]
  },
  {
   "cell_type": "code",
   "execution_count": 4,
   "id": "f5772e90",
   "metadata": {},
   "outputs": [
    {
     "data": {
      "application/vnd.microsoft.datawrangler.viewer.v0+json": {
       "columns": [
        {
         "name": "tipo_vinculo_usuario",
         "rawType": "object",
         "type": "string"
        },
        {
         "name": "Contagem",
         "rawType": "int64",
         "type": "integer"
        },
        {
         "name": "Porcentagem (%)",
         "rawType": "float64",
         "type": "float"
        }
       ],
       "conversionMethod": "pd.DataFrame",
       "ref": "35ec1611-b530-456e-86f1-65ad31fe4b67",
       "rows": [
        [
         "ALUNO DE GRADUAÇÃO",
         "1612324",
         "77.8"
        ],
        [
         "ALUNO DE PÓS-GRADUAÇÃO",
         "302541",
         "14.6"
        ],
        [
         "DOCENTE",
         "70981",
         "3.42"
        ],
        [
         "SERVIDOR TÉCNICO-ADMINISTRATIVO",
         "32184",
         "1.55"
        ],
        [
         "ALUNO MÉDIO/TÉCNICO",
         "28029",
         "1.35"
        ],
        [
         "DOCENTE EXTERNO",
         "23949",
         "1.16"
        ],
        [
         "USUÁRIO EXTERNO",
         "2509",
         "0.12"
        ],
        [
         "OUTROS",
         "5",
         "0.0"
        ]
       ],
       "shape": {
        "columns": 2,
        "rows": 8
       }
      },
      "text/html": [
       "<div>\n",
       "<style scoped>\n",
       "    .dataframe tbody tr th:only-of-type {\n",
       "        vertical-align: middle;\n",
       "    }\n",
       "\n",
       "    .dataframe tbody tr th {\n",
       "        vertical-align: top;\n",
       "    }\n",
       "\n",
       "    .dataframe thead th {\n",
       "        text-align: right;\n",
       "    }\n",
       "</style>\n",
       "<table border=\"1\" class=\"dataframe\">\n",
       "  <thead>\n",
       "    <tr style=\"text-align: right;\">\n",
       "      <th></th>\n",
       "      <th>Contagem</th>\n",
       "      <th>Porcentagem (%)</th>\n",
       "    </tr>\n",
       "    <tr>\n",
       "      <th>tipo_vinculo_usuario</th>\n",
       "      <th></th>\n",
       "      <th></th>\n",
       "    </tr>\n",
       "  </thead>\n",
       "  <tbody>\n",
       "    <tr>\n",
       "      <th>ALUNO DE GRADUAÇÃO</th>\n",
       "      <td>1612324</td>\n",
       "      <td>77.80</td>\n",
       "    </tr>\n",
       "    <tr>\n",
       "      <th>ALUNO DE PÓS-GRADUAÇÃO</th>\n",
       "      <td>302541</td>\n",
       "      <td>14.60</td>\n",
       "    </tr>\n",
       "    <tr>\n",
       "      <th>DOCENTE</th>\n",
       "      <td>70981</td>\n",
       "      <td>3.42</td>\n",
       "    </tr>\n",
       "    <tr>\n",
       "      <th>SERVIDOR TÉCNICO-ADMINISTRATIVO</th>\n",
       "      <td>32184</td>\n",
       "      <td>1.55</td>\n",
       "    </tr>\n",
       "    <tr>\n",
       "      <th>ALUNO MÉDIO/TÉCNICO</th>\n",
       "      <td>28029</td>\n",
       "      <td>1.35</td>\n",
       "    </tr>\n",
       "    <tr>\n",
       "      <th>DOCENTE EXTERNO</th>\n",
       "      <td>23949</td>\n",
       "      <td>1.16</td>\n",
       "    </tr>\n",
       "    <tr>\n",
       "      <th>USUÁRIO EXTERNO</th>\n",
       "      <td>2509</td>\n",
       "      <td>0.12</td>\n",
       "    </tr>\n",
       "    <tr>\n",
       "      <th>OUTROS</th>\n",
       "      <td>5</td>\n",
       "      <td>0.00</td>\n",
       "    </tr>\n",
       "  </tbody>\n",
       "</table>\n",
       "</div>"
      ],
      "text/plain": [
       "                                 Contagem  Porcentagem (%)\n",
       "tipo_vinculo_usuario                                      \n",
       "ALUNO DE GRADUAÇÃO                1612324            77.80\n",
       "ALUNO DE PÓS-GRADUAÇÃO             302541            14.60\n",
       "DOCENTE                             70981             3.42\n",
       "SERVIDOR TÉCNICO-ADMINISTRATIVO     32184             1.55\n",
       "ALUNO MÉDIO/TÉCNICO                 28029             1.35\n",
       "DOCENTE EXTERNO                     23949             1.16\n",
       "USUÁRIO EXTERNO                      2509             0.12\n",
       "OUTROS                                  5             0.00"
      ]
     },
     "execution_count": 4,
     "metadata": {},
     "output_type": "execute_result"
    }
   ],
   "source": [
    "contagem_variavel('tipo_vinculo_usuario')\n",
    "\n",
    "\n",
    "# Cerca de 78% dos empréstimos foram feitos por alunos de graduação\n",
    "# 14,6% alunos de pós-graduação e 3,4% é do corpo docente\n",
    "# Os valores restantes se somados correspondem a 4,2%, valor que individualmente são irrisórios\n",
    "# Uma importante análise é verificar o corpo de alunos e docentes da faculdade para comparar e ver se é um valor aproximado\n",
    "# Buscando assim se existe uma oportunidade de expansão para algum grupo"
   ]
  },
  {
   "cell_type": "code",
   "execution_count": 5,
   "id": "3b06b78a",
   "metadata": {},
   "outputs": [
    {
     "data": {
      "application/vnd.microsoft.datawrangler.viewer.v0+json": {
       "columns": [
        {
         "name": "CDU",
         "rawType": "object",
         "type": "string"
        },
        {
         "name": "Contagem",
         "rawType": "int64",
         "type": "integer"
        },
        {
         "name": "Porcentagem (%)",
         "rawType": "float64",
         "type": "float"
        }
       ],
       "conversionMethod": "pd.DataFrame",
       "ref": "117bbc7e-0e18-4fa4-9637-02694c2e5712",
       "rows": [
        [
         "Ciências aplicadas.",
         "1425473",
         "68.78"
        ],
        [
         "Ciências sociais",
         "369536",
         "17.83"
        ],
        [
         "Matemática e ciências naturais",
         "68744",
         "3.32"
        ],
        [
         "Generalidades.",
         "62521",
         "3.02"
        ],
        [
         "Religião",
         "62295",
         "3.01"
        ],
        [
         "Filosofia e psicologia",
         "60563",
         "2.92"
        ],
        [
         "Geografia. Biografia. História",
         "7989",
         "0.39"
        ],
        [
         "Belas artes",
         "7911",
         "0.38"
        ],
        [
         "Linguagem.",
         "7490",
         "0.36"
        ]
       ],
       "shape": {
        "columns": 2,
        "rows": 9
       }
      },
      "text/html": [
       "<div>\n",
       "<style scoped>\n",
       "    .dataframe tbody tr th:only-of-type {\n",
       "        vertical-align: middle;\n",
       "    }\n",
       "\n",
       "    .dataframe tbody tr th {\n",
       "        vertical-align: top;\n",
       "    }\n",
       "\n",
       "    .dataframe thead th {\n",
       "        text-align: right;\n",
       "    }\n",
       "</style>\n",
       "<table border=\"1\" class=\"dataframe\">\n",
       "  <thead>\n",
       "    <tr style=\"text-align: right;\">\n",
       "      <th></th>\n",
       "      <th>Contagem</th>\n",
       "      <th>Porcentagem (%)</th>\n",
       "    </tr>\n",
       "    <tr>\n",
       "      <th>CDU</th>\n",
       "      <th></th>\n",
       "      <th></th>\n",
       "    </tr>\n",
       "  </thead>\n",
       "  <tbody>\n",
       "    <tr>\n",
       "      <th>Ciências aplicadas.</th>\n",
       "      <td>1425473</td>\n",
       "      <td>68.78</td>\n",
       "    </tr>\n",
       "    <tr>\n",
       "      <th>Ciências sociais</th>\n",
       "      <td>369536</td>\n",
       "      <td>17.83</td>\n",
       "    </tr>\n",
       "    <tr>\n",
       "      <th>Matemática e ciências naturais</th>\n",
       "      <td>68744</td>\n",
       "      <td>3.32</td>\n",
       "    </tr>\n",
       "    <tr>\n",
       "      <th>Generalidades.</th>\n",
       "      <td>62521</td>\n",
       "      <td>3.02</td>\n",
       "    </tr>\n",
       "    <tr>\n",
       "      <th>Religião</th>\n",
       "      <td>62295</td>\n",
       "      <td>3.01</td>\n",
       "    </tr>\n",
       "    <tr>\n",
       "      <th>Filosofia e psicologia</th>\n",
       "      <td>60563</td>\n",
       "      <td>2.92</td>\n",
       "    </tr>\n",
       "    <tr>\n",
       "      <th>Geografia. Biografia. História</th>\n",
       "      <td>7989</td>\n",
       "      <td>0.39</td>\n",
       "    </tr>\n",
       "    <tr>\n",
       "      <th>Belas artes</th>\n",
       "      <td>7911</td>\n",
       "      <td>0.38</td>\n",
       "    </tr>\n",
       "    <tr>\n",
       "      <th>Linguagem.</th>\n",
       "      <td>7490</td>\n",
       "      <td>0.36</td>\n",
       "    </tr>\n",
       "  </tbody>\n",
       "</table>\n",
       "</div>"
      ],
      "text/plain": [
       "                                Contagem  Porcentagem (%)\n",
       "CDU                                                      \n",
       "Ciências aplicadas.              1425473            68.78\n",
       "Ciências sociais                  369536            17.83\n",
       "Matemática e ciências naturais     68744             3.32\n",
       "Generalidades.                     62521             3.02\n",
       "Religião                           62295             3.01\n",
       "Filosofia e psicologia             60563             2.92\n",
       "Geografia. Biografia. História      7989             0.39\n",
       "Belas artes                         7911             0.38\n",
       "Linguagem.                          7490             0.36"
      ]
     },
     "execution_count": 5,
     "metadata": {},
     "output_type": "execute_result"
    }
   ],
   "source": [
    "contagem_variavel('CDU')\n",
    "\n",
    "# Existe uma grande diferença entre os CDU mais populares, com 68,8% de alunos de ciências aplicadas e 17,8% de ciências sociais\n",
    "# Com matematicas, generalidades, religião e filosofia com uma distribuição mais uniforme entorno de 3%\n",
    "# Geografia, belas artes e linguagem completam os números com uma porcentagem abaixo de 0,4%\n",
    "# O que pode ser feito? a quantidade de alunos matriculados fazem jus a essas proporções?\n",
    "# Qual o motivo destas coleções terem um resultado tão abaixo das ciências aplicas e sociais? \n",
    "# Talvez uma pesquisa de satisfação? Catálogo desatualizado?"
   ]
  },
  {
   "cell_type": "code",
   "execution_count": 6,
   "id": "441c25e4",
   "metadata": {},
   "outputs": [
    {
     "data": {
      "application/vnd.microsoft.datawrangler.viewer.v0+json": {
       "columns": [
        {
         "name": "biblioteca",
         "rawType": "object",
         "type": "string"
        },
        {
         "name": "Contagem",
         "rawType": "int64",
         "type": "integer"
        },
        {
         "name": "Porcentagem (%)",
         "rawType": "float64",
         "type": "float"
        }
       ],
       "conversionMethod": "pd.DataFrame",
       "ref": "99252119-6160-4636-badf-bc6198619f32",
       "rows": [
        [
         "Biblioteca Central Zila Mamede",
         "1426122",
         "68.81"
        ],
        [
         "Biblioteca Setorial do Centro Ciências da Saúde - CCS",
         "118614",
         "5.72"
        ],
        [
         "Biblioteca Setorial da Faculdade de Ciências da Saúde do Trairi - FACISA - Santa Cruz",
         "77609",
         "3.74"
        ],
        [
         "Biblioteca Setorial Prof. Alberto Moreira Campos - ­Departamento de Odontologia",
         "66447",
         "3.21"
        ],
        [
         "Biblioteca Setorial Profª. Maria Lúcia da Costa Bezerra - ­CERES­ - Caicó",
         "61478",
         "2.97"
        ],
        [
         "Biblioteca Setorial Bertha Cruz Enders - ­Escola de Saúde da UFRN - ESUFRN",
         "46040",
         "2.22"
        ],
        [
         "Biblioteca Setorial do Centro de Ciências Humanas, Letras e Artes - CCHLA",
         "40744",
         "1.97"
        ],
        [
         "Biblioteca Setorial Dr. Paulo Bezerra - EMCM/RN - Caicó",
         "32097",
         "1.55"
        ],
        [
         "Biblioteca Setorial Profª. Maria José Mamede Galvão - FELCS - Currais Novos",
         "29089",
         "1.4"
        ],
        [
         "Biblioteca Setorial Prof. Rodolfo Helinski - Escola Agrícola de Jundiaí - EAJ  - Macaiba",
         "27219",
         "1.31"
        ],
        [
         "Biblioteca Setorial Prof. Francisco Gurgel De Azevedo - Instituto Química - IQ",
         "26923",
         "1.3"
        ],
        [
         "Biblioteca Setorial do Núcleo de Educação da Infância - NEI",
         "23656",
         "1.14"
        ],
        [
         "Biblioteca Setorial Prof. Ronaldo Xavier de Arruda - CCET",
         "22749",
         "1.1"
        ],
        [
         "Biblioteca Setorial Pe. Jaime Diniz - Escola de Música - EMUFRN",
         "21476",
         "1.04"
        ],
        [
         "Biblioteca Setorial do Departamento de Artes - DEART",
         "17099",
         "0.83"
        ],
        [
         "Biblioteca Setorial Prof. Leopoldo Nelson - ­Centro de Biociências - CB",
         "12900",
         "0.62"
        ],
        [
         "Biblioteca Setorial do Centro Ciências Sociais Aplicadas - CCSA",
         "10533",
         "0.51"
        ],
        [
         "Biblioteca Setorial Prof. Dr. Marcelo Bezerra de Melo Tinôco - DARQ - ­CT",
         "5057",
         "0.24"
        ],
        [
         "Biblioteca Setorial Prof. Horácio Nicolas Solimo - ­ Engenharia Química - EQ - CT",
         "4098",
         "0.2"
        ],
        [
         "Biblioteca Setorial Moacyr de Góes - CE",
         "1036",
         "0.05"
        ],
        [
         "Biblioteca Setorial Árvore do Conhecimento - Instituto do Cérebro - ICe",
         "919",
         "0.04"
        ],
        [
         "Biblioteca Setorial do Núcleo de Ensino Superior do Agreste - NESA - Nova Cruz",
         "617",
         "0.03"
        ]
       ],
       "shape": {
        "columns": 2,
        "rows": 22
       }
      },
      "text/html": [
       "<div>\n",
       "<style scoped>\n",
       "    .dataframe tbody tr th:only-of-type {\n",
       "        vertical-align: middle;\n",
       "    }\n",
       "\n",
       "    .dataframe tbody tr th {\n",
       "        vertical-align: top;\n",
       "    }\n",
       "\n",
       "    .dataframe thead th {\n",
       "        text-align: right;\n",
       "    }\n",
       "</style>\n",
       "<table border=\"1\" class=\"dataframe\">\n",
       "  <thead>\n",
       "    <tr style=\"text-align: right;\">\n",
       "      <th></th>\n",
       "      <th>Contagem</th>\n",
       "      <th>Porcentagem (%)</th>\n",
       "    </tr>\n",
       "    <tr>\n",
       "      <th>biblioteca</th>\n",
       "      <th></th>\n",
       "      <th></th>\n",
       "    </tr>\n",
       "  </thead>\n",
       "  <tbody>\n",
       "    <tr>\n",
       "      <th>Biblioteca Central Zila Mamede</th>\n",
       "      <td>1426122</td>\n",
       "      <td>68.81</td>\n",
       "    </tr>\n",
       "    <tr>\n",
       "      <th>Biblioteca Setorial do Centro Ciências da Saúde - CCS</th>\n",
       "      <td>118614</td>\n",
       "      <td>5.72</td>\n",
       "    </tr>\n",
       "    <tr>\n",
       "      <th>Biblioteca Setorial da Faculdade de Ciências da Saúde do Trairi - FACISA - Santa Cruz</th>\n",
       "      <td>77609</td>\n",
       "      <td>3.74</td>\n",
       "    </tr>\n",
       "    <tr>\n",
       "      <th>Biblioteca Setorial Prof. Alberto Moreira Campos - ­Departamento de Odontologia</th>\n",
       "      <td>66447</td>\n",
       "      <td>3.21</td>\n",
       "    </tr>\n",
       "    <tr>\n",
       "      <th>Biblioteca Setorial Profª. Maria Lúcia da Costa Bezerra - ­CERES­ - Caicó</th>\n",
       "      <td>61478</td>\n",
       "      <td>2.97</td>\n",
       "    </tr>\n",
       "    <tr>\n",
       "      <th>Biblioteca Setorial Bertha Cruz Enders - ­Escola de Saúde da UFRN - ESUFRN</th>\n",
       "      <td>46040</td>\n",
       "      <td>2.22</td>\n",
       "    </tr>\n",
       "    <tr>\n",
       "      <th>Biblioteca Setorial do Centro de Ciências Humanas, Letras e Artes - CCHLA</th>\n",
       "      <td>40744</td>\n",
       "      <td>1.97</td>\n",
       "    </tr>\n",
       "    <tr>\n",
       "      <th>Biblioteca Setorial Dr. Paulo Bezerra - EMCM/RN - Caicó</th>\n",
       "      <td>32097</td>\n",
       "      <td>1.55</td>\n",
       "    </tr>\n",
       "    <tr>\n",
       "      <th>Biblioteca Setorial Profª. Maria José Mamede Galvão - FELCS - Currais Novos</th>\n",
       "      <td>29089</td>\n",
       "      <td>1.40</td>\n",
       "    </tr>\n",
       "    <tr>\n",
       "      <th>Biblioteca Setorial Prof. Rodolfo Helinski - Escola Agrícola de Jundiaí - EAJ  - Macaiba</th>\n",
       "      <td>27219</td>\n",
       "      <td>1.31</td>\n",
       "    </tr>\n",
       "    <tr>\n",
       "      <th>Biblioteca Setorial Prof. Francisco Gurgel De Azevedo - Instituto Química - IQ</th>\n",
       "      <td>26923</td>\n",
       "      <td>1.30</td>\n",
       "    </tr>\n",
       "    <tr>\n",
       "      <th>Biblioteca Setorial do Núcleo de Educação da Infância - NEI</th>\n",
       "      <td>23656</td>\n",
       "      <td>1.14</td>\n",
       "    </tr>\n",
       "    <tr>\n",
       "      <th>Biblioteca Setorial Prof. Ronaldo Xavier de Arruda - CCET</th>\n",
       "      <td>22749</td>\n",
       "      <td>1.10</td>\n",
       "    </tr>\n",
       "    <tr>\n",
       "      <th>Biblioteca Setorial Pe. Jaime Diniz - Escola de Música - EMUFRN</th>\n",
       "      <td>21476</td>\n",
       "      <td>1.04</td>\n",
       "    </tr>\n",
       "    <tr>\n",
       "      <th>Biblioteca Setorial do Departamento de Artes - DEART</th>\n",
       "      <td>17099</td>\n",
       "      <td>0.83</td>\n",
       "    </tr>\n",
       "    <tr>\n",
       "      <th>Biblioteca Setorial Prof. Leopoldo Nelson - ­Centro de Biociências - CB</th>\n",
       "      <td>12900</td>\n",
       "      <td>0.62</td>\n",
       "    </tr>\n",
       "    <tr>\n",
       "      <th>Biblioteca Setorial do Centro Ciências Sociais Aplicadas - CCSA</th>\n",
       "      <td>10533</td>\n",
       "      <td>0.51</td>\n",
       "    </tr>\n",
       "    <tr>\n",
       "      <th>Biblioteca Setorial Prof. Dr. Marcelo Bezerra de Melo Tinôco - DARQ - ­CT</th>\n",
       "      <td>5057</td>\n",
       "      <td>0.24</td>\n",
       "    </tr>\n",
       "    <tr>\n",
       "      <th>Biblioteca Setorial Prof. Horácio Nicolas Solimo - ­ Engenharia Química - EQ - CT</th>\n",
       "      <td>4098</td>\n",
       "      <td>0.20</td>\n",
       "    </tr>\n",
       "    <tr>\n",
       "      <th>Biblioteca Setorial Moacyr de Góes - CE</th>\n",
       "      <td>1036</td>\n",
       "      <td>0.05</td>\n",
       "    </tr>\n",
       "    <tr>\n",
       "      <th>Biblioteca Setorial Árvore do Conhecimento - Instituto do Cérebro - ICe</th>\n",
       "      <td>919</td>\n",
       "      <td>0.04</td>\n",
       "    </tr>\n",
       "    <tr>\n",
       "      <th>Biblioteca Setorial do Núcleo de Ensino Superior do Agreste - NESA - Nova Cruz</th>\n",
       "      <td>617</td>\n",
       "      <td>0.03</td>\n",
       "    </tr>\n",
       "  </tbody>\n",
       "</table>\n",
       "</div>"
      ],
      "text/plain": [
       "                                                    Contagem  Porcentagem (%)\n",
       "biblioteca                                                                   \n",
       "Biblioteca Central Zila Mamede                       1426122            68.81\n",
       "Biblioteca Setorial do Centro Ciências da Saúde...    118614             5.72\n",
       "Biblioteca Setorial da Faculdade de Ciências da...     77609             3.74\n",
       "Biblioteca Setorial Prof. Alberto Moreira Campo...     66447             3.21\n",
       "Biblioteca Setorial Profª. Maria Lúcia da Costa...     61478             2.97\n",
       "Biblioteca Setorial Bertha Cruz Enders - ­Escol...     46040             2.22\n",
       "Biblioteca Setorial do Centro de Ciências Human...     40744             1.97\n",
       "Biblioteca Setorial Dr. Paulo Bezerra - EMCM/RN...     32097             1.55\n",
       "Biblioteca Setorial Profª. Maria José Mamede Ga...     29089             1.40\n",
       "Biblioteca Setorial Prof. Rodolfo Helinski - Es...     27219             1.31\n",
       "Biblioteca Setorial Prof. Francisco Gurgel De A...     26923             1.30\n",
       "Biblioteca Setorial do Núcleo de Educação da In...     23656             1.14\n",
       "Biblioteca Setorial Prof. Ronaldo Xavier de Arr...     22749             1.10\n",
       "Biblioteca Setorial Pe. Jaime Diniz - Escola de...     21476             1.04\n",
       "Biblioteca Setorial do Departamento de Artes - ...     17099             0.83\n",
       "Biblioteca Setorial Prof. Leopoldo Nelson - ­Ce...     12900             0.62\n",
       "Biblioteca Setorial do Centro Ciências Sociais ...     10533             0.51\n",
       "Biblioteca Setorial Prof. Dr. Marcelo Bezerra d...      5057             0.24\n",
       "Biblioteca Setorial Prof. Horácio Nicolas Solim...      4098             0.20\n",
       "Biblioteca Setorial Moacyr de Góes - CE                 1036             0.05\n",
       "Biblioteca Setorial Árvore do Conhecimento - In...       919             0.04\n",
       "Biblioteca Setorial do Núcleo de Ensino Superio...       617             0.03"
      ]
     },
     "execution_count": 6,
     "metadata": {},
     "output_type": "execute_result"
    }
   ],
   "source": [
    "contagem_variavel('biblioteca')\n",
    "\n",
    "# Biblioteca Central Zila Mamede tem 68,81% dos empréstimos\n",
    "# Entender o que está sendo feito nas bibliotecas setoriais com bom desempenho\n",
    "# Ver se é possível aplicar nas restantes\n"
   ]
  },
  {
   "cell_type": "code",
   "execution_count": null,
   "id": "d0881c18",
   "metadata": {},
   "outputs": [
    {
     "data": {
      "application/vnd.microsoft.datawrangler.viewer.v0+json": {
       "columns": [
        {
         "name": "colecao",
         "rawType": "object",
         "type": "string"
        },
        {
         "name": "Contagem",
         "rawType": "int64",
         "type": "integer"
        },
        {
         "name": "Porcentagem (%)",
         "rawType": "float64",
         "type": "float"
        }
       ],
       "conversionMethod": "pd.DataFrame",
       "ref": "4f93b625-6be4-4563-8a8c-af85da61f08b",
       "rows": [
        [
         "Acervo Circulante",
         "2053120",
         "99.06"
        ],
        [
         "Multimeios",
         "7954",
         "0.38"
        ],
        [
         "Monografias",
         "4021",
         "0.19"
        ],
        [
         "Dissertações",
         "2406",
         "0.12"
        ],
        [
         "Obras de Referência",
         "1954",
         "0.09"
        ],
        [
         "Publicações de Autores do RN",
         "866",
         "0.04"
        ],
        [
         "Publicações da UFRN",
         "764",
         "0.04"
        ],
        [
         "Teses",
         "714",
         "0.03"
        ],
        [
         "Folhetos",
         "271",
         "0.01"
        ],
        [
         "Necessidades Educacionais Específicas",
         "130",
         "0.01"
        ],
        [
         "Trabalho Acadêmico",
         "115",
         "0.01"
        ],
        [
         "Eventos",
         "101",
         "0.0"
        ],
        [
         "Coleção Mossoroense",
         "44",
         "0.0"
        ],
        [
         "Coleção Zila Mamede",
         "30",
         "0.0"
        ],
        [
         "Literatura de Cordel",
         "24",
         "0.0"
        ],
        [
         "Obras Raras",
         "8",
         "0.0"
        ]
       ],
       "shape": {
        "columns": 2,
        "rows": 16
       }
      },
      "text/html": [
       "<div>\n",
       "<style scoped>\n",
       "    .dataframe tbody tr th:only-of-type {\n",
       "        vertical-align: middle;\n",
       "    }\n",
       "\n",
       "    .dataframe tbody tr th {\n",
       "        vertical-align: top;\n",
       "    }\n",
       "\n",
       "    .dataframe thead th {\n",
       "        text-align: right;\n",
       "    }\n",
       "</style>\n",
       "<table border=\"1\" class=\"dataframe\">\n",
       "  <thead>\n",
       "    <tr style=\"text-align: right;\">\n",
       "      <th></th>\n",
       "      <th>Contagem</th>\n",
       "      <th>Porcentagem (%)</th>\n",
       "    </tr>\n",
       "    <tr>\n",
       "      <th>colecao</th>\n",
       "      <th></th>\n",
       "      <th></th>\n",
       "    </tr>\n",
       "  </thead>\n",
       "  <tbody>\n",
       "    <tr>\n",
       "      <th>Acervo Circulante</th>\n",
       "      <td>2053120</td>\n",
       "      <td>99.06</td>\n",
       "    </tr>\n",
       "    <tr>\n",
       "      <th>Multimeios</th>\n",
       "      <td>7954</td>\n",
       "      <td>0.38</td>\n",
       "    </tr>\n",
       "    <tr>\n",
       "      <th>Monografias</th>\n",
       "      <td>4021</td>\n",
       "      <td>0.19</td>\n",
       "    </tr>\n",
       "    <tr>\n",
       "      <th>Dissertações</th>\n",
       "      <td>2406</td>\n",
       "      <td>0.12</td>\n",
       "    </tr>\n",
       "    <tr>\n",
       "      <th>Obras de Referência</th>\n",
       "      <td>1954</td>\n",
       "      <td>0.09</td>\n",
       "    </tr>\n",
       "    <tr>\n",
       "      <th>Publicações de Autores do RN</th>\n",
       "      <td>866</td>\n",
       "      <td>0.04</td>\n",
       "    </tr>\n",
       "    <tr>\n",
       "      <th>Publicações da UFRN</th>\n",
       "      <td>764</td>\n",
       "      <td>0.04</td>\n",
       "    </tr>\n",
       "    <tr>\n",
       "      <th>Teses</th>\n",
       "      <td>714</td>\n",
       "      <td>0.03</td>\n",
       "    </tr>\n",
       "    <tr>\n",
       "      <th>Folhetos</th>\n",
       "      <td>271</td>\n",
       "      <td>0.01</td>\n",
       "    </tr>\n",
       "    <tr>\n",
       "      <th>Necessidades Educacionais Específicas</th>\n",
       "      <td>130</td>\n",
       "      <td>0.01</td>\n",
       "    </tr>\n",
       "    <tr>\n",
       "      <th>Trabalho Acadêmico</th>\n",
       "      <td>115</td>\n",
       "      <td>0.01</td>\n",
       "    </tr>\n",
       "    <tr>\n",
       "      <th>Eventos</th>\n",
       "      <td>101</td>\n",
       "      <td>0.00</td>\n",
       "    </tr>\n",
       "    <tr>\n",
       "      <th>Coleção Mossoroense</th>\n",
       "      <td>44</td>\n",
       "      <td>0.00</td>\n",
       "    </tr>\n",
       "    <tr>\n",
       "      <th>Coleção Zila Mamede</th>\n",
       "      <td>30</td>\n",
       "      <td>0.00</td>\n",
       "    </tr>\n",
       "    <tr>\n",
       "      <th>Literatura de Cordel</th>\n",
       "      <td>24</td>\n",
       "      <td>0.00</td>\n",
       "    </tr>\n",
       "    <tr>\n",
       "      <th>Obras Raras</th>\n",
       "      <td>8</td>\n",
       "      <td>0.00</td>\n",
       "    </tr>\n",
       "  </tbody>\n",
       "</table>\n",
       "</div>"
      ],
      "text/plain": [
       "                                       Contagem  Porcentagem (%)\n",
       "colecao                                                         \n",
       "Acervo Circulante                       2053120            99.06\n",
       "Multimeios                                 7954             0.38\n",
       "Monografias                                4021             0.19\n",
       "Dissertações                               2406             0.12\n",
       "Obras de Referência                        1954             0.09\n",
       "Publicações de Autores do RN                866             0.04\n",
       "Publicações da UFRN                         764             0.04\n",
       "Teses                                       714             0.03\n",
       "Folhetos                                    271             0.01\n",
       "Necessidades Educacionais Específicas       130             0.01\n",
       "Trabalho Acadêmico                          115             0.01\n",
       "Eventos                                     101             0.00\n",
       "Coleção Mossoroense                          44             0.00\n",
       "Coleção Zila Mamede                          30             0.00\n",
       "Literatura de Cordel                         24             0.00\n",
       "Obras Raras                                   8             0.00"
      ]
     },
     "execution_count": 9,
     "metadata": {},
     "output_type": "execute_result"
    }
   ],
   "source": [
    "contagem_variavel('colecao')\n",
    "\n",
    "# O Acervo Circulante está com expressivos 99,06% dos empréstimos\n",
    "# Qual o motivo de tamanha parte da coleção?\n",
    "# As outras coleções estão desatualizadas? \n",
    "# São coleções que se encontram online?\n",
    "# Importante a investigação e se alguma campanha pode ajudar a aumentar os números"
   ]
  }
 ],
 "metadata": {
  "kernelspec": {
   "display_name": "Python 3",
   "language": "python",
   "name": "python3"
  },
  "language_info": {
   "codemirror_mode": {
    "name": "ipython",
    "version": 3
   },
   "file_extension": ".py",
   "mimetype": "text/x-python",
   "name": "python",
   "nbconvert_exporter": "python",
   "pygments_lexer": "ipython3",
   "version": "3.11.9"
  }
 },
 "nbformat": 4,
 "nbformat_minor": 5
}
